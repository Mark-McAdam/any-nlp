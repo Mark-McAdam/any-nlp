{
 "cells": [
  {
   "cell_type": "code",
   "execution_count": 95,
   "metadata": {},
   "outputs": [],
   "source": [
    "import seaborn as sns\n",
    "import warnings\n",
    "warnings.filterwarnings('ignore',category=FutureWarning)\n",
    "warnings.filterwarnings('ignore',category=DeprecationWarning)\n",
    "\n",
    "import tensorflow as tf\n",
    "import pandas as pd\n",
    "import numpy as np\n",
    "import xgboost as xgb\n",
    "from tqdm import tqdm\n",
    "from sklearn.svm import SVC\n",
    "from keras.models import Sequential\n",
    "from keras.layers.recurrent import LSTM, GRU\n",
    "from keras.layers.core import Dense, Activation, Dropout\n",
    "from keras.layers.embeddings import Embedding\n",
    "from keras.layers.normalization import BatchNormalization\n",
    "from keras.utils import np_utils\n",
    "from sklearn import preprocessing, decomposition, model_selection, metrics, pipeline\n",
    "from sklearn.model_selection import GridSearchCV\n",
    "from sklearn.feature_extraction.text import TfidfVectorizer, CountVectorizer\n",
    "from sklearn.decomposition import TruncatedSVD\n",
    "from sklearn.linear_model import LogisticRegression\n",
    "from sklearn.model_selection import train_test_split\n",
    "from sklearn.naive_bayes import MultinomialNB\n",
    "from keras.layers import GlobalMaxPooling1D, Conv1D, MaxPooling1D, Flatten, Bidirectional, SpatialDropout1D\n",
    "from keras.preprocessing import sequence, text\n",
    "from keras.callbacks import EarlyStopping\n",
    "from nltk import word_tokenize\n",
    "from nltk.corpus import stopwords\n",
    "stop_words = stopwords.words('english')"
   ]
  },
  {
   "cell_type": "code",
   "execution_count": 2,
   "metadata": {},
   "outputs": [],
   "source": [
    "train = pd.read_csv('../input/train.csv')\n",
    "test = pd.read_csv('../input/test.csv')\n",
    "sample = pd.read_csv('../input/sample_submission.csv')"
   ]
  },
  {
   "cell_type": "code",
   "execution_count": 3,
   "metadata": {},
   "outputs": [
    {
     "data": {
      "text/html": [
       "<div>\n",
       "<style scoped>\n",
       "    .dataframe tbody tr th:only-of-type {\n",
       "        vertical-align: middle;\n",
       "    }\n",
       "\n",
       "    .dataframe tbody tr th {\n",
       "        vertical-align: top;\n",
       "    }\n",
       "\n",
       "    .dataframe thead th {\n",
       "        text-align: right;\n",
       "    }\n",
       "</style>\n",
       "<table border=\"1\" class=\"dataframe\">\n",
       "  <thead>\n",
       "    <tr style=\"text-align: right;\">\n",
       "      <th></th>\n",
       "      <th>id</th>\n",
       "      <th>description</th>\n",
       "      <th>ratingCategory</th>\n",
       "    </tr>\n",
       "  </thead>\n",
       "  <tbody>\n",
       "    <tr>\n",
       "      <th>0</th>\n",
       "      <td>1321</td>\n",
       "      <td>\\nSometimes, when whisky is batched, a few lef...</td>\n",
       "      <td>1</td>\n",
       "    </tr>\n",
       "    <tr>\n",
       "      <th>1</th>\n",
       "      <td>3861</td>\n",
       "      <td>\\nAn uncommon exclusive bottling of a 6 year o...</td>\n",
       "      <td>0</td>\n",
       "    </tr>\n",
       "    <tr>\n",
       "      <th>2</th>\n",
       "      <td>655</td>\n",
       "      <td>\\nThis release is a port version of Amrut’s In...</td>\n",
       "      <td>1</td>\n",
       "    </tr>\n",
       "    <tr>\n",
       "      <th>3</th>\n",
       "      <td>555</td>\n",
       "      <td>\\nThis 41 year old single cask was aged in a s...</td>\n",
       "      <td>1</td>\n",
       "    </tr>\n",
       "    <tr>\n",
       "      <th>4</th>\n",
       "      <td>1965</td>\n",
       "      <td>\\nQuite herbal on the nose, with aromas of dri...</td>\n",
       "      <td>1</td>\n",
       "    </tr>\n",
       "  </tbody>\n",
       "</table>\n",
       "</div>"
      ],
      "text/plain": [
       "     id                                        description  ratingCategory\n",
       "0  1321  \\nSometimes, when whisky is batched, a few lef...               1\n",
       "1  3861  \\nAn uncommon exclusive bottling of a 6 year o...               0\n",
       "2   655  \\nThis release is a port version of Amrut’s In...               1\n",
       "3   555  \\nThis 41 year old single cask was aged in a s...               1\n",
       "4  1965  \\nQuite herbal on the nose, with aromas of dri...               1"
      ]
     },
     "execution_count": 3,
     "metadata": {},
     "output_type": "execute_result"
    }
   ],
   "source": [
    "train.head()\n"
   ]
  },
  {
   "cell_type": "code",
   "execution_count": 4,
   "metadata": {},
   "outputs": [],
   "source": [
    "# bins = [0,1,2,3]\n",
    "# review_names = ['excellent', 'good', 'bad']\n",
    "# train['ratingCategorical'] = pd.cut(train['ratingCategory'], bins, labels=review_names, include_lowest=True, right=False)"
   ]
  },
  {
   "cell_type": "code",
   "execution_count": 5,
   "metadata": {},
   "outputs": [
    {
     "data": {
      "text/html": [
       "<div>\n",
       "<style scoped>\n",
       "    .dataframe tbody tr th:only-of-type {\n",
       "        vertical-align: middle;\n",
       "    }\n",
       "\n",
       "    .dataframe tbody tr th {\n",
       "        vertical-align: top;\n",
       "    }\n",
       "\n",
       "    .dataframe thead th {\n",
       "        text-align: right;\n",
       "    }\n",
       "</style>\n",
       "<table border=\"1\" class=\"dataframe\">\n",
       "  <thead>\n",
       "    <tr style=\"text-align: right;\">\n",
       "      <th></th>\n",
       "      <th>id</th>\n",
       "      <th>description</th>\n",
       "      <th>ratingCategory</th>\n",
       "    </tr>\n",
       "  </thead>\n",
       "  <tbody>\n",
       "    <tr>\n",
       "      <th>0</th>\n",
       "      <td>1321</td>\n",
       "      <td>\\nSometimes, when whisky is batched, a few lef...</td>\n",
       "      <td>1</td>\n",
       "    </tr>\n",
       "    <tr>\n",
       "      <th>1</th>\n",
       "      <td>3861</td>\n",
       "      <td>\\nAn uncommon exclusive bottling of a 6 year o...</td>\n",
       "      <td>0</td>\n",
       "    </tr>\n",
       "    <tr>\n",
       "      <th>2</th>\n",
       "      <td>655</td>\n",
       "      <td>\\nThis release is a port version of Amrut’s In...</td>\n",
       "      <td>1</td>\n",
       "    </tr>\n",
       "    <tr>\n",
       "      <th>3</th>\n",
       "      <td>555</td>\n",
       "      <td>\\nThis 41 year old single cask was aged in a s...</td>\n",
       "      <td>1</td>\n",
       "    </tr>\n",
       "    <tr>\n",
       "      <th>4</th>\n",
       "      <td>1965</td>\n",
       "      <td>\\nQuite herbal on the nose, with aromas of dri...</td>\n",
       "      <td>1</td>\n",
       "    </tr>\n",
       "  </tbody>\n",
       "</table>\n",
       "</div>"
      ],
      "text/plain": [
       "     id                                        description  ratingCategory\n",
       "0  1321  \\nSometimes, when whisky is batched, a few lef...               1\n",
       "1  3861  \\nAn uncommon exclusive bottling of a 6 year o...               0\n",
       "2   655  \\nThis release is a port version of Amrut’s In...               1\n",
       "3   555  \\nThis 41 year old single cask was aged in a s...               1\n",
       "4  1965  \\nQuite herbal on the nose, with aromas of dri...               1"
      ]
     },
     "execution_count": 5,
     "metadata": {},
     "output_type": "execute_result"
    }
   ],
   "source": [
    "train.head()"
   ]
  },
  {
   "cell_type": "code",
   "execution_count": 6,
   "metadata": {},
   "outputs": [
    {
     "data": {
      "text/html": [
       "<div>\n",
       "<style scoped>\n",
       "    .dataframe tbody tr th:only-of-type {\n",
       "        vertical-align: middle;\n",
       "    }\n",
       "\n",
       "    .dataframe tbody tr th {\n",
       "        vertical-align: top;\n",
       "    }\n",
       "\n",
       "    .dataframe thead th {\n",
       "        text-align: right;\n",
       "    }\n",
       "</style>\n",
       "<table border=\"1\" class=\"dataframe\">\n",
       "  <thead>\n",
       "    <tr style=\"text-align: right;\">\n",
       "      <th></th>\n",
       "      <th>id</th>\n",
       "      <th>description</th>\n",
       "    </tr>\n",
       "  </thead>\n",
       "  <tbody>\n",
       "    <tr>\n",
       "      <th>0</th>\n",
       "      <td>3461</td>\n",
       "      <td>\\nStyle: Speyside single malt scotch Color: Wa...</td>\n",
       "    </tr>\n",
       "    <tr>\n",
       "      <th>1</th>\n",
       "      <td>2604</td>\n",
       "      <td>\\nVery bright and lively, with a nice balance ...</td>\n",
       "    </tr>\n",
       "    <tr>\n",
       "      <th>2</th>\n",
       "      <td>3341</td>\n",
       "      <td>\\nA new oloroso-forward Chivas positioned to s...</td>\n",
       "    </tr>\n",
       "    <tr>\n",
       "      <th>3</th>\n",
       "      <td>3764</td>\n",
       "      <td>\\nAged in bourbon casks and then enhanced in R...</td>\n",
       "    </tr>\n",
       "    <tr>\n",
       "      <th>4</th>\n",
       "      <td>2306</td>\n",
       "      <td>\\nThere is a freshness to the wood on the nose...</td>\n",
       "    </tr>\n",
       "  </tbody>\n",
       "</table>\n",
       "</div>"
      ],
      "text/plain": [
       "     id                                        description\n",
       "0  3461  \\nStyle: Speyside single malt scotch Color: Wa...\n",
       "1  2604  \\nVery bright and lively, with a nice balance ...\n",
       "2  3341  \\nA new oloroso-forward Chivas positioned to s...\n",
       "3  3764  \\nAged in bourbon casks and then enhanced in R...\n",
       "4  2306  \\nThere is a freshness to the wood on the nose..."
      ]
     },
     "execution_count": 6,
     "metadata": {},
     "output_type": "execute_result"
    }
   ],
   "source": [
    "test.head()"
   ]
  },
  {
   "cell_type": "code",
   "execution_count": 7,
   "metadata": {},
   "outputs": [
    {
     "data": {
      "text/html": [
       "<div>\n",
       "<style scoped>\n",
       "    .dataframe tbody tr th:only-of-type {\n",
       "        vertical-align: middle;\n",
       "    }\n",
       "\n",
       "    .dataframe tbody tr th {\n",
       "        vertical-align: top;\n",
       "    }\n",
       "\n",
       "    .dataframe thead th {\n",
       "        text-align: right;\n",
       "    }\n",
       "</style>\n",
       "<table border=\"1\" class=\"dataframe\">\n",
       "  <thead>\n",
       "    <tr style=\"text-align: right;\">\n",
       "      <th></th>\n",
       "      <th>id</th>\n",
       "      <th>ratingCategory</th>\n",
       "    </tr>\n",
       "  </thead>\n",
       "  <tbody>\n",
       "    <tr>\n",
       "      <th>0</th>\n",
       "      <td>3461</td>\n",
       "      <td>2</td>\n",
       "    </tr>\n",
       "    <tr>\n",
       "      <th>1</th>\n",
       "      <td>2604</td>\n",
       "      <td>2</td>\n",
       "    </tr>\n",
       "    <tr>\n",
       "      <th>2</th>\n",
       "      <td>3341</td>\n",
       "      <td>2</td>\n",
       "    </tr>\n",
       "    <tr>\n",
       "      <th>3</th>\n",
       "      <td>3764</td>\n",
       "      <td>2</td>\n",
       "    </tr>\n",
       "    <tr>\n",
       "      <th>4</th>\n",
       "      <td>2306</td>\n",
       "      <td>2</td>\n",
       "    </tr>\n",
       "  </tbody>\n",
       "</table>\n",
       "</div>"
      ],
      "text/plain": [
       "     id  ratingCategory\n",
       "0  3461               2\n",
       "1  2604               2\n",
       "2  3341               2\n",
       "3  3764               2\n",
       "4  2306               2"
      ]
     },
     "execution_count": 7,
     "metadata": {},
     "output_type": "execute_result"
    }
   ],
   "source": [
    "sample.head()\n"
   ]
  },
  {
   "cell_type": "code",
   "execution_count": 8,
   "metadata": {},
   "outputs": [],
   "source": [
    "import re\n",
    "def preprocess_text(sen):\n",
    "\n",
    "    # Remove punctuations and numbers\n",
    "    sentence = re.sub('[^a-zA-Z]', ' ', sen)\n",
    "\n",
    "    # Single character removal\n",
    "    sentence = re.sub(r\"\\s+[a-zA-Z]\\s+\", ' ', sentence)\n",
    "\n",
    "    # Removing multiple spaces\n",
    "    sentence = re.sub(r'\\s+', ' ', sentence)\n",
    "\n",
    "    return sentence"
   ]
  },
  {
   "cell_type": "code",
   "execution_count": 9,
   "metadata": {},
   "outputs": [],
   "source": [
    "train['description'] = train['description'].apply(preprocess_text)\n",
    "test['description'] = test['description'].apply(preprocess_text)"
   ]
  },
  {
   "cell_type": "code",
   "execution_count": 10,
   "metadata": {},
   "outputs": [],
   "source": [
    "# del train['ratingCategory']\n"
   ]
  },
  {
   "cell_type": "code",
   "execution_count": 11,
   "metadata": {},
   "outputs": [],
   "source": [
    "def multiclass_logloss(actual, predicted, eps=1e-15):\n",
    "    \"\"\"Multi class version of Logarithmic Loss metric.\n",
    "    :param actual: Array containing the actual target classes\n",
    "    :param predicted: Matrix with class predictions, one probability per class\n",
    "    \"\"\"\n",
    "    # Convert 'actual' to a binary array if it's not already:\n",
    "    if len(actual.shape) == 1:\n",
    "        actual2 = np.zeros((actual.shape[0], predicted.shape[1]))\n",
    "        for i, val in enumerate(actual):\n",
    "            actual2[i, val] = 1\n",
    "        actual = actual2\n",
    "\n",
    "    clip = np.clip(predicted, eps, 1 - eps)\n",
    "    rows = actual.shape[0]\n",
    "    vsota = np.sum(actual * np.log(clip))\n",
    "    return -1.0 / rows * vsota"
   ]
  },
  {
   "cell_type": "code",
   "execution_count": 12,
   "metadata": {},
   "outputs": [
    {
     "name": "stdout",
     "output_type": "stream",
     "text": [
      "0       1\n",
      "1       0\n",
      "2       1\n",
      "3       1\n",
      "4       1\n",
      "       ..\n",
      "4082    1\n",
      "4083    1\n",
      "4084    1\n",
      "4085    1\n",
      "4086    1\n",
      "Name: ratingCategory, Length: 4087, dtype: int64\n"
     ]
    }
   ],
   "source": [
    "# TODO we may have to reassign y because I am not encoding the categorical anylonger \n",
    "# lbl_enc = preprocessing.LabelEncoder()\n",
    "# y = lbl_enc.fit_transform(train.ratingCategorical.values)\n",
    "\n",
    "y = train['ratingCategory']\n",
    "print(y)"
   ]
  },
  {
   "cell_type": "code",
   "execution_count": 13,
   "metadata": {},
   "outputs": [
    {
     "data": {
      "text/html": [
       "<div>\n",
       "<style scoped>\n",
       "    .dataframe tbody tr th:only-of-type {\n",
       "        vertical-align: middle;\n",
       "    }\n",
       "\n",
       "    .dataframe tbody tr th {\n",
       "        vertical-align: top;\n",
       "    }\n",
       "\n",
       "    .dataframe thead th {\n",
       "        text-align: right;\n",
       "    }\n",
       "</style>\n",
       "<table border=\"1\" class=\"dataframe\">\n",
       "  <thead>\n",
       "    <tr style=\"text-align: right;\">\n",
       "      <th></th>\n",
       "      <th>id</th>\n",
       "      <th>description</th>\n",
       "      <th>ratingCategory</th>\n",
       "    </tr>\n",
       "  </thead>\n",
       "  <tbody>\n",
       "    <tr>\n",
       "      <th>0</th>\n",
       "      <td>1321</td>\n",
       "      <td>Sometimes when whisky is batched few leftover...</td>\n",
       "      <td>1</td>\n",
       "    </tr>\n",
       "    <tr>\n",
       "      <th>1</th>\n",
       "      <td>3861</td>\n",
       "      <td>An uncommon exclusive bottling of year old ca...</td>\n",
       "      <td>0</td>\n",
       "    </tr>\n",
       "    <tr>\n",
       "      <th>2</th>\n",
       "      <td>655</td>\n",
       "      <td>This release is port version of Amrut Interme...</td>\n",
       "      <td>1</td>\n",
       "    </tr>\n",
       "    <tr>\n",
       "      <th>3</th>\n",
       "      <td>555</td>\n",
       "      <td>This year old single cask was aged in sherry ...</td>\n",
       "      <td>1</td>\n",
       "    </tr>\n",
       "    <tr>\n",
       "      <th>4</th>\n",
       "      <td>1965</td>\n",
       "      <td>Quite herbal on the nose with aromas of dried...</td>\n",
       "      <td>1</td>\n",
       "    </tr>\n",
       "  </tbody>\n",
       "</table>\n",
       "</div>"
      ],
      "text/plain": [
       "     id                                        description  ratingCategory\n",
       "0  1321   Sometimes when whisky is batched few leftover...               1\n",
       "1  3861   An uncommon exclusive bottling of year old ca...               0\n",
       "2   655   This release is port version of Amrut Interme...               1\n",
       "3   555   This year old single cask was aged in sherry ...               1\n",
       "4  1965   Quite herbal on the nose with aromas of dried...               1"
      ]
     },
     "execution_count": 13,
     "metadata": {},
     "output_type": "execute_result"
    }
   ],
   "source": [
    "train.head()"
   ]
  },
  {
   "cell_type": "code",
   "execution_count": 14,
   "metadata": {},
   "outputs": [
    {
     "data": {
      "text/plain": [
       "(4087, 3)"
      ]
     },
     "execution_count": 14,
     "metadata": {},
     "output_type": "execute_result"
    }
   ],
   "source": [
    "train.shape"
   ]
  },
  {
   "cell_type": "code",
   "execution_count": 15,
   "metadata": {},
   "outputs": [],
   "source": [
    "xtrain, xvalid, ytrain, yvalid = train_test_split(train.description.values, y, \n",
    "                                                  stratify=y, \n",
    "                                                  random_state=42, \n",
    "                                                  test_size=0.1, shuffle=True)\n"
   ]
  },
  {
   "cell_type": "code",
   "execution_count": 16,
   "metadata": {},
   "outputs": [
    {
     "data": {
      "text/plain": [
       "array([' This is straightforward straight shootin Irish whiskey Creamy country fudge toasted muffins glorious sweet malt waxed lemons and delicate spices on the first sniff It light in the mouth with lemon curd juicy caramels and vanilla custard tarts simply bursting with warmth It concludes with spices twinkling on malt theme Have your Irish whiskey experiences only been with the big names Go live little You ought to get this sugar and spice and all things nice ',\n",
       "       ' Nashville restaurant Peg Leg Porker pitmaster Carey Bringle filters this whiskey through hickory charcoal Malted milk balls peanuts in the shell toasted grain Swiss Miss hot cocoa mix licorice root beer and tea leaves to start with lots of oak dark chocolate blackberry white pepper cinnamon cherry cough syrup and more root beer on the sweet spiced palate The finish is delicate and fruited with sweet cherries and blackberries as well as sprinkling of cloves and subtle oak ',\n",
       "       ' growing number of Canadian craft distillers are making Scotch style single malt whisky and several including Still Waters do quite good job of it Round leafy cereal notes on the nose give rise to granular fruitiness delicate oak caramels and glowering peppers on the palate It beautifully balanced lush and mouth filling and though delicious now with few more years it would be stellar Lovely hot peppers sweet grassiness yellow fruit and long spicy finish '],\n",
       "      dtype=object)"
      ]
     },
     "execution_count": 16,
     "metadata": {},
     "output_type": "execute_result"
    }
   ],
   "source": [
    "xtrain[:3]"
   ]
  },
  {
   "cell_type": "code",
   "execution_count": 17,
   "metadata": {},
   "outputs": [
    {
     "data": {
      "text/plain": [
       "1362    1\n",
       "2710    1\n",
       "2490    1\n",
       "Name: ratingCategory, dtype: int64"
      ]
     },
     "execution_count": 17,
     "metadata": {},
     "output_type": "execute_result"
    }
   ],
   "source": [
    "ytrain[:3]"
   ]
  },
  {
   "cell_type": "code",
   "execution_count": 18,
   "metadata": {},
   "outputs": [
    {
     "data": {
      "text/plain": [
       "array([' Stick your snout into aromas of rich tea biscuits honey tangerine toasted almond chips candied pineapple chunks and prickle of spice It youthful but integrated the grain domineering over the malt likable flavor sequence begins with lovely honey sweetness honeydew melon and pear before citrus phase followed by an ominous wave of spice which vanquishes the sweet fruits leaving swift spicy finish bottles for S ',\n",
       "       ' The appealing nose features pretty biscuit notes great purity of malt and golden honeyed sweetness before adding some flavors of citrus blossom clover and cardamom with hints of licorice On the palate the initial sweet malt quickly turns herbal with marjoram and distinct sage note that lingers through long finish of salt tinged sweetness Aged years months in full size charred oak ',\n",
       "       ' Independent bottler Gordon MacPhail offers variety of Balblair expressions including vintage and this year old in their Distillery Labels series Matured in mixture of refill sherry hogsheads and first fill bourbon barrels The nose offers rich warm fruits vanilla sherry maraschino cherries and ultimately toffee and orange blossom Medium bodied sweet and fruity with nutty milk chocolate white pepper and zesty spice Slowly drying in the finish with licorice and light oak '],\n",
       "      dtype=object)"
      ]
     },
     "execution_count": 18,
     "metadata": {},
     "output_type": "execute_result"
    }
   ],
   "source": [
    "xvalid[:3]"
   ]
  },
  {
   "cell_type": "code",
   "execution_count": 19,
   "metadata": {},
   "outputs": [
    {
     "data": {
      "text/plain": [
       "1286    1\n",
       "1585    1\n",
       "1950    1\n",
       "Name: ratingCategory, dtype: int64"
      ]
     },
     "execution_count": 19,
     "metadata": {},
     "output_type": "execute_result"
    }
   ],
   "source": [
    "yvalid[:3]"
   ]
  },
  {
   "cell_type": "code",
   "execution_count": 20,
   "metadata": {},
   "outputs": [
    {
     "name": "stdout",
     "output_type": "stream",
     "text": [
      "(3678,)\n",
      "(409,)\n"
     ]
    }
   ],
   "source": [
    "print (xtrain.shape)\n",
    "print (xvalid.shape)"
   ]
  },
  {
   "cell_type": "code",
   "execution_count": 21,
   "metadata": {},
   "outputs": [],
   "source": [
    "xtest = np.asarray(test['description'])"
   ]
  },
  {
   "cell_type": "code",
   "execution_count": 22,
   "metadata": {},
   "outputs": [
    {
     "data": {
      "text/plain": [
       "array([' Style Speyside single malt scotch Color Walnut Aroma Richly sherried and thick with notes of nuts and toffee Wood resins contribute spice and variety Fruitcake at Christmas Palate Thick chewy in texture and quite ripe Again the fruitcake Very deep and mature with some underlying maltiness Dry spicy oak notes fight off all that sherry and add balance and complexity Long soothing finish ',\n",
       "       ' Very bright and lively with nice balance of flavors Zesty fruit lemon peach ripe pineapple golden raisin on bed of layered sweetness creamy vanilla light honey lightly toasted marshmallow and hint of coconut Gently dry delicately spicy dried citrus finish Light enough and with enough zing to enjoy before dinner but it should stand up well enough after dinner too This is nice whisky but it shows lighter more elegant side of Glenrothes It doesn express the rich opulent notes often shown in bottlings like the Vintage for example ',\n",
       "       ' new oloroso forward Chivas positioned to split between the and year olds got this Refined and inviting nose of lemon pith black fruits and Kola Kubes The velvety texture is wonderfully smooth redolent of an apricot custard Danish lime zest raisin currant mixed peel and walnut with growing bitter lemon note Quite unique finish like sucking on lumpy Spanish lemons speckled with spices LA NY Miami Chicago Northern California but will go national '],\n",
       "      dtype=object)"
      ]
     },
     "execution_count": 22,
     "metadata": {},
     "output_type": "execute_result"
    }
   ],
   "source": [
    "xtest[:3]"
   ]
  },
  {
   "cell_type": "code",
   "execution_count": 23,
   "metadata": {},
   "outputs": [],
   "source": [
    "# Always start with these features. They work (almost) everytime!\n",
    "tfv = TfidfVectorizer(min_df=3,  max_features=None, \n",
    "            strip_accents='unicode', analyzer='word',token_pattern=r'\\w{1,}',\n",
    "            ngram_range=(1, 3), use_idf=1,smooth_idf=1,sublinear_tf=1,\n",
    "            stop_words = 'english')\n",
    "\n",
    "# Fitting TF-IDF to both training and test sets (semi-supervised learning)\n",
    "tfv.fit(list(xtrain) + list(xvalid))\n",
    "xtrain_tfv =  tfv.transform(xtrain) \n",
    "xvalid_tfv = tfv.transform(xvalid)\n",
    "xtest_tfv = tfv.transform(xtest)"
   ]
  },
  {
   "cell_type": "code",
   "execution_count": 24,
   "metadata": {},
   "outputs": [
    {
     "name": "stdout",
     "output_type": "stream",
     "text": [
      "logloss: 0.556 \n"
     ]
    }
   ],
   "source": [
    "# Fitting a simple Logistic Regression on TFIDF\n",
    "clf = LogisticRegression(C=1.0)\n",
    "clf.fit(xtrain_tfv, ytrain)\n",
    "predictions = clf.predict_proba(xvalid_tfv)\n",
    "\n",
    "print (\"logloss: %0.3f \" % multiclass_logloss(yvalid, predictions))"
   ]
  },
  {
   "cell_type": "code",
   "execution_count": 25,
   "metadata": {},
   "outputs": [
    {
     "data": {
      "text/plain": [
       "array([[0.11911593, 0.87169094, 0.00919313],\n",
       "       [0.32056241, 0.66214529, 0.0172923 ],\n",
       "       [0.11200454, 0.88048324, 0.00751223],\n",
       "       ...,\n",
       "       [0.12922978, 0.8580907 , 0.01267952],\n",
       "       [0.44248012, 0.53661303, 0.02090685],\n",
       "       [0.1880043 , 0.80331342, 0.00868229]])"
      ]
     },
     "execution_count": 25,
     "metadata": {},
     "output_type": "execute_result"
    }
   ],
   "source": [
    "predictions"
   ]
  },
  {
   "cell_type": "code",
   "execution_count": 26,
   "metadata": {},
   "outputs": [],
   "source": [
    "test_predictions = clf.predict_proba(xtest_tfv)\n"
   ]
  },
  {
   "cell_type": "code",
   "execution_count": 27,
   "metadata": {},
   "outputs": [
    {
     "data": {
      "text/plain": [
       "array([[0.24074484, 0.74598284, 0.01327232],\n",
       "       [0.30008709, 0.68704451, 0.01286839],\n",
       "       [0.24420319, 0.74293926, 0.01285756],\n",
       "       ...,\n",
       "       [0.23473   , 0.74623609, 0.01903391],\n",
       "       [0.28933964, 0.69529618, 0.01536418],\n",
       "       [0.52683154, 0.42925388, 0.04391458]])"
      ]
     },
     "execution_count": 27,
     "metadata": {},
     "output_type": "execute_result"
    }
   ],
   "source": [
    "test_predictions"
   ]
  },
  {
   "cell_type": "code",
   "execution_count": 28,
   "metadata": {},
   "outputs": [
    {
     "name": "stdout",
     "output_type": "stream",
     "text": [
      "[1 1 1 ... 1 1 0]\n"
     ]
    }
   ],
   "source": [
    "labels = np.argmax(test_predictions, axis=-1)    \n",
    "print(labels)"
   ]
  },
  {
   "cell_type": "code",
   "execution_count": 29,
   "metadata": {},
   "outputs": [
    {
     "data": {
      "text/plain": [
       "array([1, 1, 1, ..., 1, 1, 0])"
      ]
     },
     "execution_count": 29,
     "metadata": {},
     "output_type": "execute_result"
    }
   ],
   "source": [
    "labels "
   ]
  },
  {
   "cell_type": "code",
   "execution_count": 30,
   "metadata": {},
   "outputs": [
    {
     "data": {
      "text/html": [
       "<div>\n",
       "<style scoped>\n",
       "    .dataframe tbody tr th:only-of-type {\n",
       "        vertical-align: middle;\n",
       "    }\n",
       "\n",
       "    .dataframe tbody tr th {\n",
       "        vertical-align: top;\n",
       "    }\n",
       "\n",
       "    .dataframe thead th {\n",
       "        text-align: right;\n",
       "    }\n",
       "</style>\n",
       "<table border=\"1\" class=\"dataframe\">\n",
       "  <thead>\n",
       "    <tr style=\"text-align: right;\">\n",
       "      <th></th>\n",
       "      <th>id</th>\n",
       "      <th>ratingCategory</th>\n",
       "    </tr>\n",
       "  </thead>\n",
       "  <tbody>\n",
       "    <tr>\n",
       "      <th>0</th>\n",
       "      <td>3461</td>\n",
       "      <td>2</td>\n",
       "    </tr>\n",
       "    <tr>\n",
       "      <th>1</th>\n",
       "      <td>2604</td>\n",
       "      <td>2</td>\n",
       "    </tr>\n",
       "    <tr>\n",
       "      <th>2</th>\n",
       "      <td>3341</td>\n",
       "      <td>2</td>\n",
       "    </tr>\n",
       "    <tr>\n",
       "      <th>3</th>\n",
       "      <td>3764</td>\n",
       "      <td>2</td>\n",
       "    </tr>\n",
       "    <tr>\n",
       "      <th>4</th>\n",
       "      <td>2306</td>\n",
       "      <td>2</td>\n",
       "    </tr>\n",
       "  </tbody>\n",
       "</table>\n",
       "</div>"
      ],
      "text/plain": [
       "     id  ratingCategory\n",
       "0  3461               2\n",
       "1  2604               2\n",
       "2  3341               2\n",
       "3  3764               2\n",
       "4  2306               2"
      ]
     },
     "execution_count": 30,
     "metadata": {},
     "output_type": "execute_result"
    }
   ],
   "source": [
    "sample.head()"
   ]
  },
  {
   "cell_type": "code",
   "execution_count": 31,
   "metadata": {},
   "outputs": [],
   "source": [
    "sample['rating']=labels"
   ]
  },
  {
   "cell_type": "code",
   "execution_count": 32,
   "metadata": {},
   "outputs": [
    {
     "data": {
      "text/html": [
       "<div>\n",
       "<style scoped>\n",
       "    .dataframe tbody tr th:only-of-type {\n",
       "        vertical-align: middle;\n",
       "    }\n",
       "\n",
       "    .dataframe tbody tr th {\n",
       "        vertical-align: top;\n",
       "    }\n",
       "\n",
       "    .dataframe thead th {\n",
       "        text-align: right;\n",
       "    }\n",
       "</style>\n",
       "<table border=\"1\" class=\"dataframe\">\n",
       "  <thead>\n",
       "    <tr style=\"text-align: right;\">\n",
       "      <th></th>\n",
       "      <th>id</th>\n",
       "      <th>ratingCategory</th>\n",
       "      <th>rating</th>\n",
       "    </tr>\n",
       "  </thead>\n",
       "  <tbody>\n",
       "    <tr>\n",
       "      <th>0</th>\n",
       "      <td>3461</td>\n",
       "      <td>2</td>\n",
       "      <td>1</td>\n",
       "    </tr>\n",
       "    <tr>\n",
       "      <th>1</th>\n",
       "      <td>2604</td>\n",
       "      <td>2</td>\n",
       "      <td>1</td>\n",
       "    </tr>\n",
       "    <tr>\n",
       "      <th>2</th>\n",
       "      <td>3341</td>\n",
       "      <td>2</td>\n",
       "      <td>1</td>\n",
       "    </tr>\n",
       "    <tr>\n",
       "      <th>3</th>\n",
       "      <td>3764</td>\n",
       "      <td>2</td>\n",
       "      <td>1</td>\n",
       "    </tr>\n",
       "    <tr>\n",
       "      <th>4</th>\n",
       "      <td>2306</td>\n",
       "      <td>2</td>\n",
       "      <td>1</td>\n",
       "    </tr>\n",
       "  </tbody>\n",
       "</table>\n",
       "</div>"
      ],
      "text/plain": [
       "     id  ratingCategory  rating\n",
       "0  3461               2       1\n",
       "1  2604               2       1\n",
       "2  3341               2       1\n",
       "3  3764               2       1\n",
       "4  2306               2       1"
      ]
     },
     "execution_count": 32,
     "metadata": {},
     "output_type": "execute_result"
    }
   ],
   "source": [
    "sample.head()"
   ]
  },
  {
   "cell_type": "code",
   "execution_count": null,
   "metadata": {},
   "outputs": [],
   "source": []
  },
  {
   "cell_type": "code",
   "execution_count": 33,
   "metadata": {},
   "outputs": [
    {
     "data": {
      "text/plain": [
       "<matplotlib.axes._subplots.AxesSubplot at 0x1a2be31f60>"
      ]
     },
     "execution_count": 33,
     "metadata": {},
     "output_type": "execute_result"
    },
    {
     "data": {
      "image/png": "[encoded data removed]",
      "text/plain": [
       "<Figure size 432x288 with 1 Axes>"
      ]
     },
     "metadata": {
      "needs_background": "light"
     },
     "output_type": "display_data"
    }
   ],
   "source": [
    "import seaborn as sns\n",
    "\n",
    "sns.countplot(x='rating', data=sample)"
   ]
  },
  {
   "cell_type": "code",
   "execution_count": 34,
   "metadata": {},
   "outputs": [
    {
     "data": {
      "text/plain": [
       "1    901\n",
       "0    121\n",
       "Name: rating, dtype: int64"
      ]
     },
     "execution_count": 34,
     "metadata": {},
     "output_type": "execute_result"
    }
   ],
   "source": [
    "sample['rating'].value_counts()"
   ]
  },
  {
   "cell_type": "code",
   "execution_count": 35,
   "metadata": {},
   "outputs": [],
   "source": [
    "\n",
    "# Think got a 56% first run round \n",
    "# then 55.6% ok moving right along "
   ]
  },
  {
   "cell_type": "code",
   "execution_count": 36,
   "metadata": {},
   "outputs": [
    {
     "data": {
      "text/plain": [
       "<3678x16029 sparse matrix of type '<class 'numpy.float64'>'\n",
       "\twith 202871 stored elements in Compressed Sparse Row format>"
      ]
     },
     "execution_count": 36,
     "metadata": {},
     "output_type": "execute_result"
    }
   ],
   "source": [
    "xtrain_tfv"
   ]
  },
  {
   "cell_type": "code",
   "execution_count": 37,
   "metadata": {},
   "outputs": [
    {
     "data": {
      "text/plain": [
       "<409x16029 sparse matrix of type '<class 'numpy.float64'>'\n",
       "\twith 22814 stored elements in Compressed Sparse Row format>"
      ]
     },
     "execution_count": 37,
     "metadata": {},
     "output_type": "execute_result"
    }
   ],
   "source": [
    "xvalid_tfv"
   ]
  },
  {
   "cell_type": "code",
   "execution_count": 38,
   "metadata": {},
   "outputs": [
    {
     "data": {
      "text/plain": [
       "<1022x16029 sparse matrix of type '<class 'numpy.float64'>'\n",
       "\twith 51866 stored elements in Compressed Sparse Row format>"
      ]
     },
     "execution_count": 38,
     "metadata": {},
     "output_type": "execute_result"
    }
   ],
   "source": [
    "xtest_tfv"
   ]
  },
  {
   "cell_type": "code",
   "execution_count": 39,
   "metadata": {},
   "outputs": [
    {
     "data": {
      "text/html": [
       "<div>\n",
       "<style scoped>\n",
       "    .dataframe tbody tr th:only-of-type {\n",
       "        vertical-align: middle;\n",
       "    }\n",
       "\n",
       "    .dataframe tbody tr th {\n",
       "        vertical-align: top;\n",
       "    }\n",
       "\n",
       "    .dataframe thead th {\n",
       "        text-align: right;\n",
       "    }\n",
       "</style>\n",
       "<table border=\"1\" class=\"dataframe\">\n",
       "  <thead>\n",
       "    <tr style=\"text-align: right;\">\n",
       "      <th></th>\n",
       "      <th>id</th>\n",
       "      <th>ratingCategory</th>\n",
       "      <th>rating</th>\n",
       "    </tr>\n",
       "  </thead>\n",
       "  <tbody>\n",
       "    <tr>\n",
       "      <th>0</th>\n",
       "      <td>3461</td>\n",
       "      <td>2</td>\n",
       "      <td>1</td>\n",
       "    </tr>\n",
       "    <tr>\n",
       "      <th>1</th>\n",
       "      <td>2604</td>\n",
       "      <td>2</td>\n",
       "      <td>1</td>\n",
       "    </tr>\n",
       "    <tr>\n",
       "      <th>2</th>\n",
       "      <td>3341</td>\n",
       "      <td>2</td>\n",
       "      <td>1</td>\n",
       "    </tr>\n",
       "    <tr>\n",
       "      <th>3</th>\n",
       "      <td>3764</td>\n",
       "      <td>2</td>\n",
       "      <td>1</td>\n",
       "    </tr>\n",
       "    <tr>\n",
       "      <th>4</th>\n",
       "      <td>2306</td>\n",
       "      <td>2</td>\n",
       "      <td>1</td>\n",
       "    </tr>\n",
       "  </tbody>\n",
       "</table>\n",
       "</div>"
      ],
      "text/plain": [
       "     id  ratingCategory  rating\n",
       "0  3461               2       1\n",
       "1  2604               2       1\n",
       "2  3341               2       1\n",
       "3  3764               2       1\n",
       "4  2306               2       1"
      ]
     },
     "execution_count": 39,
     "metadata": {},
     "output_type": "execute_result"
    }
   ],
   "source": [
    "sample.head()\n"
   ]
  },
  {
   "cell_type": "code",
   "execution_count": 40,
   "metadata": {},
   "outputs": [
    {
     "data": {
      "text/html": [
       "<div>\n",
       "<style scoped>\n",
       "    .dataframe tbody tr th:only-of-type {\n",
       "        vertical-align: middle;\n",
       "    }\n",
       "\n",
       "    .dataframe tbody tr th {\n",
       "        vertical-align: top;\n",
       "    }\n",
       "\n",
       "    .dataframe thead th {\n",
       "        text-align: right;\n",
       "    }\n",
       "</style>\n",
       "<table border=\"1\" class=\"dataframe\">\n",
       "  <thead>\n",
       "    <tr style=\"text-align: right;\">\n",
       "      <th></th>\n",
       "      <th>id</th>\n",
       "      <th>ratingCategory</th>\n",
       "      <th>rating</th>\n",
       "    </tr>\n",
       "  </thead>\n",
       "  <tbody>\n",
       "    <tr>\n",
       "      <th>0</th>\n",
       "      <td>3461</td>\n",
       "      <td>2</td>\n",
       "      <td>1</td>\n",
       "    </tr>\n",
       "    <tr>\n",
       "      <th>1</th>\n",
       "      <td>2604</td>\n",
       "      <td>2</td>\n",
       "      <td>1</td>\n",
       "    </tr>\n",
       "    <tr>\n",
       "      <th>2</th>\n",
       "      <td>3341</td>\n",
       "      <td>2</td>\n",
       "      <td>1</td>\n",
       "    </tr>\n",
       "    <tr>\n",
       "      <th>3</th>\n",
       "      <td>3764</td>\n",
       "      <td>2</td>\n",
       "      <td>1</td>\n",
       "    </tr>\n",
       "    <tr>\n",
       "      <th>4</th>\n",
       "      <td>2306</td>\n",
       "      <td>2</td>\n",
       "      <td>1</td>\n",
       "    </tr>\n",
       "  </tbody>\n",
       "</table>\n",
       "</div>"
      ],
      "text/plain": [
       "     id  ratingCategory  rating\n",
       "0  3461               2       1\n",
       "1  2604               2       1\n",
       "2  3341               2       1\n",
       "3  3764               2       1\n",
       "4  2306               2       1"
      ]
     },
     "execution_count": 40,
     "metadata": {},
     "output_type": "execute_result"
    }
   ],
   "source": [
    "sample.head()"
   ]
  },
  {
   "cell_type": "code",
   "execution_count": 41,
   "metadata": {},
   "outputs": [],
   "source": [
    "del sample['ratingCategory']\n"
   ]
  },
  {
   "cell_type": "code",
   "execution_count": null,
   "metadata": {},
   "outputs": [],
   "source": []
  },
  {
   "cell_type": "code",
   "execution_count": 42,
   "metadata": {},
   "outputs": [],
   "source": [
    "sample.rename(columns = {'rating':'ratingCategory'}, inplace = True) "
   ]
  },
  {
   "cell_type": "code",
   "execution_count": 43,
   "metadata": {},
   "outputs": [
    {
     "data": {
      "text/html": [
       "<div>\n",
       "<style scoped>\n",
       "    .dataframe tbody tr th:only-of-type {\n",
       "        vertical-align: middle;\n",
       "    }\n",
       "\n",
       "    .dataframe tbody tr th {\n",
       "        vertical-align: top;\n",
       "    }\n",
       "\n",
       "    .dataframe thead th {\n",
       "        text-align: right;\n",
       "    }\n",
       "</style>\n",
       "<table border=\"1\" class=\"dataframe\">\n",
       "  <thead>\n",
       "    <tr style=\"text-align: right;\">\n",
       "      <th></th>\n",
       "      <th>id</th>\n",
       "      <th>ratingCategory</th>\n",
       "    </tr>\n",
       "  </thead>\n",
       "  <tbody>\n",
       "    <tr>\n",
       "      <th>0</th>\n",
       "      <td>3461</td>\n",
       "      <td>1</td>\n",
       "    </tr>\n",
       "    <tr>\n",
       "      <th>1</th>\n",
       "      <td>2604</td>\n",
       "      <td>1</td>\n",
       "    </tr>\n",
       "    <tr>\n",
       "      <th>2</th>\n",
       "      <td>3341</td>\n",
       "      <td>1</td>\n",
       "    </tr>\n",
       "    <tr>\n",
       "      <th>3</th>\n",
       "      <td>3764</td>\n",
       "      <td>1</td>\n",
       "    </tr>\n",
       "    <tr>\n",
       "      <th>4</th>\n",
       "      <td>2306</td>\n",
       "      <td>1</td>\n",
       "    </tr>\n",
       "    <tr>\n",
       "      <th>...</th>\n",
       "      <td>...</td>\n",
       "      <td>...</td>\n",
       "    </tr>\n",
       "    <tr>\n",
       "      <th>1017</th>\n",
       "      <td>2853</td>\n",
       "      <td>1</td>\n",
       "    </tr>\n",
       "    <tr>\n",
       "      <th>1018</th>\n",
       "      <td>219</td>\n",
       "      <td>1</td>\n",
       "    </tr>\n",
       "    <tr>\n",
       "      <th>1019</th>\n",
       "      <td>1286</td>\n",
       "      <td>1</td>\n",
       "    </tr>\n",
       "    <tr>\n",
       "      <th>1020</th>\n",
       "      <td>2201</td>\n",
       "      <td>1</td>\n",
       "    </tr>\n",
       "    <tr>\n",
       "      <th>1021</th>\n",
       "      <td>4019</td>\n",
       "      <td>0</td>\n",
       "    </tr>\n",
       "  </tbody>\n",
       "</table>\n",
       "<p>1022 rows × 2 columns</p>\n",
       "</div>"
      ],
      "text/plain": [
       "        id  ratingCategory\n",
       "0     3461               1\n",
       "1     2604               1\n",
       "2     3341               1\n",
       "3     3764               1\n",
       "4     2306               1\n",
       "...    ...             ...\n",
       "1017  2853               1\n",
       "1018   219               1\n",
       "1019  1286               1\n",
       "1020  2201               1\n",
       "1021  4019               0\n",
       "\n",
       "[1022 rows x 2 columns]"
      ]
     },
     "execution_count": 43,
     "metadata": {},
     "output_type": "execute_result"
    }
   ],
   "source": [
    "sample"
   ]
  },
  {
   "cell_type": "code",
   "execution_count": null,
   "metadata": {},
   "outputs": [],
   "source": []
  },
  {
   "cell_type": "code",
   "execution_count": null,
   "metadata": {},
   "outputs": [],
   "source": []
  },
  {
   "cell_type": "code",
   "execution_count": 44,
   "metadata": {},
   "outputs": [],
   "source": [
    "subNumber = 1000"
   ]
  },
  {
   "cell_type": "code",
   "execution_count": 45,
   "metadata": {},
   "outputs": [],
   "source": [
    "subNumber += 1\n",
    "submission = pd.DataFrame({'id': sample['id'], 'ratingCategory':sample['ratingCategory']})\n",
    "# submission['ratingCategory'] = submission['ratingCategory'].astype('int64')\n",
    "\n",
    "submission.to_csv(f'../data/submission{subNumber}.csv', index=False)\n"
   ]
  },
  {
   "cell_type": "code",
   "execution_count": null,
   "metadata": {},
   "outputs": [],
   "source": []
  },
  {
   "cell_type": "code",
   "execution_count": null,
   "metadata": {},
   "outputs": [],
   "source": []
  },
  {
   "cell_type": "code",
   "execution_count": null,
   "metadata": {},
   "outputs": [],
   "source": []
  },
  {
   "cell_type": "markdown",
   "metadata": {},
   "source": [
    "# next \n",
    "instead of tfidf\n",
    "word counts as features\n",
    "using CountVectorizer from scikit-learn."
   ]
  },
  {
   "cell_type": "code",
   "execution_count": 46,
   "metadata": {},
   "outputs": [],
   "source": [
    "ctv = CountVectorizer(analyzer='word',token_pattern=r'\\w{1,}',\n",
    "            ngram_range=(1, 3), stop_words = 'english')\n",
    "\n",
    "# Fitting Count Vectorizer to both training and test sets (semi-supervised learning)\n",
    "ctv.fit(list(xtrain) + list(xvalid))\n",
    "xtrain_ctv =  ctv.transform(xtrain) \n",
    "xvalid_ctv = ctv.transform(xvalid)"
   ]
  },
  {
   "cell_type": "code",
   "execution_count": 47,
   "metadata": {},
   "outputs": [
    {
     "name": "stdout",
     "output_type": "stream",
     "text": [
      "logloss: 0.636 \n"
     ]
    }
   ],
   "source": [
    "# Fitting a simple Logistic Regression on Counts\n",
    "clf = LogisticRegression(C=1.0)\n",
    "clf.fit(xtrain_ctv, ytrain)\n",
    "predictions = clf.predict_proba(xvalid_ctv)\n",
    "\n",
    "print (\"logloss: %0.3f \" % multiclass_logloss(yvalid, predictions))"
   ]
  },
  {
   "cell_type": "code",
   "execution_count": 48,
   "metadata": {},
   "outputs": [],
   "source": [
    "# acc 63.6"
   ]
  },
  {
   "cell_type": "markdown",
   "metadata": {},
   "source": [
    "# Naive Bayes"
   ]
  },
  {
   "cell_type": "code",
   "execution_count": 49,
   "metadata": {},
   "outputs": [
    {
     "name": "stdout",
     "output_type": "stream",
     "text": [
      "logloss: 0.683 \n"
     ]
    }
   ],
   "source": [
    "# Fitting a simple Naive Bayes on TFIDF\n",
    "clf = MultinomialNB()\n",
    "clf.fit(xtrain_tfv, ytrain)\n",
    "predictions = clf.predict_proba(xvalid_tfv)\n",
    "\n",
    "print (\"logloss: %0.3f \" % multiclass_logloss(yvalid, predictions))"
   ]
  },
  {
   "cell_type": "code",
   "execution_count": 50,
   "metadata": {},
   "outputs": [],
   "source": [
    "# acc 68.3"
   ]
  },
  {
   "cell_type": "code",
   "execution_count": 51,
   "metadata": {},
   "outputs": [
    {
     "name": "stdout",
     "output_type": "stream",
     "text": [
      "logloss: 3.695 \n"
     ]
    }
   ],
   "source": [
    "# Fitting a simple Naive Bayes on Counts\n",
    "clf = MultinomialNB()\n",
    "clf.fit(xtrain_ctv, ytrain)\n",
    "predictions = clf.predict_proba(xvalid_ctv)\n",
    "\n",
    "print (\"logloss: %0.3f \" % multiclass_logloss(yvalid, predictions))"
   ]
  },
  {
   "cell_type": "markdown",
   "metadata": {},
   "source": [
    "# Applying SVD and then simple SVM "
   ]
  },
  {
   "cell_type": "code",
   "execution_count": 52,
   "metadata": {},
   "outputs": [],
   "source": [
    "# Apply SVD, I chose 120 components. 120-200 components are good enough for SVM model.\n",
    "svd = decomposition.TruncatedSVD(n_components=120)\n",
    "svd.fit(xtrain_tfv)\n",
    "xtrain_svd = svd.transform(xtrain_tfv)\n",
    "xvalid_svd = svd.transform(xvalid_tfv)\n",
    "\n",
    "# Scale the data obtained from SVD. Renaming variable to reuse without scaling.\n",
    "scl = preprocessing.StandardScaler()\n",
    "scl.fit(xtrain_svd)\n",
    "xtrain_svd_scl = scl.transform(xtrain_svd)\n",
    "xvalid_svd_scl = scl.transform(xvalid_svd)"
   ]
  },
  {
   "cell_type": "code",
   "execution_count": 53,
   "metadata": {},
   "outputs": [
    {
     "name": "stdout",
     "output_type": "stream",
     "text": [
      "logloss: 0.534 \n"
     ]
    }
   ],
   "source": [
    "# Fitting a simple SVM\n",
    "clf = SVC(C=1.0, probability=True) # since we need probabilities\n",
    "clf.fit(xtrain_svd_scl, ytrain)\n",
    "predictions = clf.predict_proba(xvalid_svd_scl)\n",
    "\n",
    "print (\"logloss: %0.3f \" % multiclass_logloss(yvalid, predictions))"
   ]
  },
  {
   "cell_type": "markdown",
   "metadata": {},
   "source": [
    "# XG Boost "
   ]
  },
  {
   "cell_type": "code",
   "execution_count": 54,
   "metadata": {},
   "outputs": [
    {
     "name": "stdout",
     "output_type": "stream",
     "text": [
      "logloss: 0.580 \n"
     ]
    }
   ],
   "source": [
    "# Fitting a simple xgboost on tf-idf\n",
    "clf = xgb.XGBClassifier(max_depth=7, n_estimators=200, colsample_bytree=0.8, \n",
    "                        subsample=0.8, nthread=10, learning_rate=0.1)\n",
    "clf.fit(xtrain_tfv.tocsc(), ytrain)\n",
    "predictions = clf.predict_proba(xvalid_tfv.tocsc())\n",
    "\n",
    "print (\"logloss: %0.3f \" % multiclass_logloss(yvalid, predictions))"
   ]
  },
  {
   "cell_type": "code",
   "execution_count": null,
   "metadata": {},
   "outputs": [],
   "source": []
  },
  {
   "cell_type": "code",
   "execution_count": 55,
   "metadata": {},
   "outputs": [
    {
     "name": "stdout",
     "output_type": "stream",
     "text": [
      "logloss: 0.585 \n"
     ]
    }
   ],
   "source": [
    "# Fitting a simple xgboost on tf-idf\n",
    "clf = xgb.XGBClassifier(max_depth=7, n_estimators=200, colsample_bytree=0.8, \n",
    "                        subsample=0.8, nthread=10, learning_rate=0.1)\n",
    "clf.fit(xtrain_ctv.tocsc(), ytrain)\n",
    "predictions = clf.predict_proba(xvalid_ctv.tocsc())\n",
    "\n",
    "print (\"logloss: %0.3f \" % multiclass_logloss(yvalid, predictions))"
   ]
  },
  {
   "cell_type": "code",
   "execution_count": null,
   "metadata": {},
   "outputs": [],
   "source": []
  },
  {
   "cell_type": "code",
   "execution_count": 56,
   "metadata": {},
   "outputs": [
    {
     "name": "stdout",
     "output_type": "stream",
     "text": [
      "logloss: 0.646 \n"
     ]
    }
   ],
   "source": [
    "# Fitting a simple xgboost on tf-idf svd features\n",
    "clf = xgb.XGBClassifier(max_depth=7, n_estimators=200, colsample_bytree=0.8, \n",
    "                        subsample=0.8, nthread=10, learning_rate=0.1)\n",
    "clf.fit(xtrain_svd, ytrain)\n",
    "predictions = clf.predict_proba(xvalid_svd)\n",
    "\n",
    "print (\"logloss: %0.3f \" % multiclass_logloss(yvalid, predictions))"
   ]
  },
  {
   "cell_type": "code",
   "execution_count": null,
   "metadata": {},
   "outputs": [],
   "source": []
  },
  {
   "cell_type": "code",
   "execution_count": 57,
   "metadata": {},
   "outputs": [
    {
     "name": "stdout",
     "output_type": "stream",
     "text": [
      "logloss: 0.672 \n"
     ]
    }
   ],
   "source": [
    "# Fitting a simple xgboost on tf-idf svd features\n",
    "clf = xgb.XGBClassifier(nthread=10)\n",
    "clf.fit(xtrain_svd, ytrain)\n",
    "predictions = clf.predict_proba(xvalid_svd)\n",
    "\n",
    "print (\"logloss: %0.3f \" % multiclass_logloss(yvalid, predictions))"
   ]
  },
  {
   "cell_type": "markdown",
   "metadata": {},
   "source": [
    "# Moving onto pipelines \n",
    "\n",
    "so far the best performing has been XG boost on tf-idf svd features "
   ]
  },
  {
   "cell_type": "code",
   "execution_count": 58,
   "metadata": {},
   "outputs": [],
   "source": [
    "mll_scorer = metrics.make_scorer(multiclass_logloss, greater_is_better=False, needs_proba=True)\n"
   ]
  },
  {
   "cell_type": "code",
   "execution_count": 59,
   "metadata": {},
   "outputs": [],
   "source": [
    "# Initialize SVD\n",
    "svd = TruncatedSVD()\n",
    "    \n",
    "# Initialize the standard scaler \n",
    "scl = preprocessing.StandardScaler()\n",
    "\n",
    "# We will use logistic regression here..\n",
    "lr_model = LogisticRegression()\n",
    "\n",
    "# Create the pipeline \n",
    "clf = pipeline.Pipeline([('svd', svd),\n",
    "                         ('scl', scl),\n",
    "                         ('lr', lr_model)])"
   ]
  },
  {
   "cell_type": "code",
   "execution_count": 60,
   "metadata": {},
   "outputs": [],
   "source": [
    "param_grid = {'svd__n_components' : [120, 180],\n",
    "              'lr__C': [0.1, 1.0, 10], \n",
    "              'lr__penalty': ['l1', 'l2']}"
   ]
  },
  {
   "cell_type": "code",
   "execution_count": 61,
   "metadata": {},
   "outputs": [
    {
     "name": "stdout",
     "output_type": "stream",
     "text": [
      "Fitting 2 folds for each of 12 candidates, totalling 24 fits\n"
     ]
    },
    {
     "name": "stderr",
     "output_type": "stream",
     "text": [
      "[Parallel(n_jobs=-1)]: Using backend LokyBackend with 8 concurrent workers.\n",
      "[Parallel(n_jobs=-1)]: Done   2 tasks      | elapsed:    3.6s\n",
      "[Parallel(n_jobs=-1)]: Done   9 tasks      | elapsed:    5.4s\n",
      "[Parallel(n_jobs=-1)]: Done  12 out of  24 | elapsed:    6.7s remaining:    6.7s\n",
      "[Parallel(n_jobs=-1)]: Done  15 out of  24 | elapsed:    7.2s remaining:    4.3s\n",
      "[Parallel(n_jobs=-1)]: Done  18 out of  24 | elapsed:    8.0s remaining:    2.7s\n",
      "[Parallel(n_jobs=-1)]: Done  21 out of  24 | elapsed:    8.8s remaining:    1.3s\n",
      "[Parallel(n_jobs=-1)]: Done  24 out of  24 | elapsed:    9.3s remaining:    0.0s\n",
      "[Parallel(n_jobs=-1)]: Done  24 out of  24 | elapsed:    9.3s finished\n"
     ]
    },
    {
     "name": "stdout",
     "output_type": "stream",
     "text": [
      "Best score: -0.586\n",
      "Best parameters set:\n",
      "\tlr__C: 0.1\n",
      "\tlr__penalty: 'l2'\n",
      "\tsvd__n_components: 120\n"
     ]
    }
   ],
   "source": [
    "# Initialize Grid Search Model\n",
    "model = GridSearchCV(estimator=clf, param_grid=param_grid, scoring=mll_scorer,\n",
    "                                 verbose=10, n_jobs=-1, iid=True, refit=True, cv=2)\n",
    "\n",
    "# Fit Grid Search Model\n",
    "model.fit(xtrain_tfv, ytrain)  # we can use the full data here but im only using xtrain\n",
    "print(\"Best score: %0.3f\" % model.best_score_)\n",
    "print(\"Best parameters set:\")\n",
    "best_parameters = model.best_estimator_.get_params()\n",
    "for param_name in sorted(param_grid.keys()):\n",
    "    print(\"\\t%s: %r\" % (param_name, best_parameters[param_name]))\n"
   ]
  },
  {
   "cell_type": "markdown",
   "metadata": {},
   "source": [
    "# next pipeline attempt"
   ]
  },
  {
   "cell_type": "code",
   "execution_count": 62,
   "metadata": {},
   "outputs": [
    {
     "name": "stdout",
     "output_type": "stream",
     "text": [
      "Fitting 2 folds for each of 6 candidates, totalling 12 fits\n",
      "Best score: -0.650\n",
      "Best parameters set:\n",
      "\tnb__alpha: 0.1\n"
     ]
    },
    {
     "name": "stderr",
     "output_type": "stream",
     "text": [
      "[Parallel(n_jobs=-1)]: Using backend LokyBackend with 8 concurrent workers.\n",
      "[Parallel(n_jobs=-1)]: Done   1 tasks      | elapsed:    0.0s\n",
      "[Parallel(n_jobs=-1)]: Batch computation too fast (0.0472s.) Setting batch_size=2.\n",
      "[Parallel(n_jobs=-1)]: Done   3 out of  12 | elapsed:    0.1s remaining:    0.2s\n",
      "[Parallel(n_jobs=-1)]: Done   5 out of  12 | elapsed:    0.1s remaining:    0.1s\n",
      "[Parallel(n_jobs=-1)]: Done   7 out of  12 | elapsed:    0.1s remaining:    0.1s\n",
      "[Parallel(n_jobs=-1)]: Done   9 out of  12 | elapsed:    0.1s remaining:    0.0s\n",
      "[Parallel(n_jobs=-1)]: Done  12 out of  12 | elapsed:    0.1s finished\n"
     ]
    }
   ],
   "source": [
    "nb_model = MultinomialNB()\n",
    "\n",
    "# Create the pipeline \n",
    "clf = pipeline.Pipeline([('nb', nb_model)])\n",
    "\n",
    "# parameter grid\n",
    "param_grid = {'nb__alpha': [0.001, 0.01, 0.1, 1, 10, 100]}\n",
    "\n",
    "# Initialize Grid Search Model\n",
    "model = GridSearchCV(estimator=clf, param_grid=param_grid, scoring=mll_scorer,\n",
    "                                 verbose=10, n_jobs=-1, iid=True, refit=True, cv=2)\n",
    "\n",
    "# Fit Grid Search Model\n",
    "model.fit(xtrain_tfv, ytrain)  # we can use the full data here but im only using xtrain. \n",
    "print(\"Best score: %0.3f\" % model.best_score_)\n",
    "print(\"Best parameters set:\")\n",
    "best_parameters = model.best_estimator_.get_params()\n",
    "for param_name in sorted(param_grid.keys()):\n",
    "    print(\"\\t%s: %r\" % (param_name, best_parameters[param_name]))"
   ]
  },
  {
   "cell_type": "markdown",
   "metadata": {},
   "source": [
    "# GLOVE VECTORS !!!! "
   ]
  },
  {
   "cell_type": "code",
   "execution_count": 63,
   "metadata": {},
   "outputs": [
    {
     "name": "stderr",
     "output_type": "stream",
     "text": [
      "2196017it [03:00, 12141.47it/s]\n"
     ]
    },
    {
     "name": "stdout",
     "output_type": "stream",
     "text": [
      "Found 2196007 word vectors.\n"
     ]
    }
   ],
   "source": [
    "# import os\n",
    "# from numpy import asarray\n",
    "\n",
    "# load the GloVe vectors in a dictionary:\n",
    "\n",
    "# embeddings_index = {}\n",
    "# f = open('glove.840B.300d.txt')\n",
    "# for line in tqdm(f):\n",
    "#     values = line.split()\n",
    "#     word = values[0]\n",
    "#     coefs = np.asarray(values[1:], dtype='float32')\n",
    "#     embeddings_index[word] = coefs\n",
    "# f.close()\n",
    "\n",
    "# print('Found %s word vectors.' % len(embeddings_index))\n",
    "\n",
    "\n",
    "\n",
    "# l.decode('utf8').strip().split(' ')\n",
    "embeddings_index = {}\n",
    "f = open('glove.840B.300d.txt')\n",
    "for line in tqdm(f):\n",
    "    values = line.strip().split(' ')\n",
    "    word = values[0]\n",
    "    coefs = np.asarray(values[1:], dtype='float32')\n",
    "    embeddings_index[word] = coefs\n",
    "f.close()\n",
    "\n",
    "print('Found %s word vectors.' % len(embeddings_index))\n"
   ]
  },
  {
   "cell_type": "code",
   "execution_count": 64,
   "metadata": {},
   "outputs": [],
   "source": [
    "# this function creates a normalized vector for the whole sentence\n",
    "def sent2vec(s):\n",
    "    words = str(s).lower() # commented out decode .decode('utf-8')\n",
    "    words = word_tokenize(words)\n",
    "    words = [w for w in words if not w in stop_words]\n",
    "    words = [w for w in words if w.isalpha()]\n",
    "    M = []\n",
    "    for w in words:\n",
    "        try:\n",
    "            M.append(embeddings_index[w])\n",
    "        except:\n",
    "            continue\n",
    "    M = np.array(M)\n",
    "    v = M.sum(axis=0)\n",
    "    if type(v) != np.ndarray:\n",
    "        return np.zeros(300)\n",
    "    return v / np.sqrt((v ** 2).sum())"
   ]
  },
  {
   "cell_type": "code",
   "execution_count": 65,
   "metadata": {},
   "outputs": [],
   "source": [
    "import nltk\n"
   ]
  },
  {
   "cell_type": "code",
   "execution_count": 66,
   "metadata": {},
   "outputs": [
    {
     "name": "stderr",
     "output_type": "stream",
     "text": [
      "[nltk_data] Downloading package punkt to /Users/mark/nltk_data...\n",
      "[nltk_data]   Package punkt is already up-to-date!\n"
     ]
    },
    {
     "data": {
      "text/plain": [
       "True"
      ]
     },
     "execution_count": 66,
     "metadata": {},
     "output_type": "execute_result"
    }
   ],
   "source": [
    "nltk.download('punkt')"
   ]
  },
  {
   "cell_type": "code",
   "execution_count": 70,
   "metadata": {},
   "outputs": [
    {
     "name": "stderr",
     "output_type": "stream",
     "text": [
      "100%|██████████| 3678/3678 [00:02<00:00, 1430.46it/s]\n",
      "100%|██████████| 409/409 [00:00<00:00, 1488.46it/s]\n",
      "100%|██████████| 1022/1022 [00:01<00:00, 918.09it/s]\n"
     ]
    }
   ],
   "source": [
    "# create sentence vectors using the above function for training and validation set\n",
    "xtrain_glove = [sent2vec(x) for x in tqdm(xtrain)]\n",
    "xvalid_glove = [sent2vec(x) for x in tqdm(xvalid)]\n",
    "xtest_glove = [sent2vec(x) for x in tqdm(xtest)]"
   ]
  },
  {
   "cell_type": "code",
   "execution_count": 71,
   "metadata": {},
   "outputs": [],
   "source": [
    "xtrain_glove = np.array(xtrain_glove)\n",
    "xvalid_glove = np.array(xvalid_glove)\n",
    "xtest_glove = np.array(xtest_glove)"
   ]
  },
  {
   "cell_type": "code",
   "execution_count": 69,
   "metadata": {},
   "outputs": [
    {
     "ename": "SyntaxError",
     "evalue": "invalid syntax (<ipython-input-69-2719983566c3>, line 1)",
     "output_type": "error",
     "traceback": [
      "\u001b[0;36m  File \u001b[0;32m\"<ipython-input-69-2719983566c3>\"\u001b[0;36m, line \u001b[0;32m1\u001b[0m\n\u001b[0;31m    error for stop\u001b[0m\n\u001b[0m            ^\u001b[0m\n\u001b[0;31mSyntaxError\u001b[0m\u001b[0;31m:\u001b[0m invalid syntax\n"
     ]
    }
   ],
   "source": []
  },
  {
   "cell_type": "markdown",
   "metadata": {},
   "source": [
    "# XG Boost on GLOVE "
   ]
  },
  {
   "cell_type": "code",
   "execution_count": 72,
   "metadata": {},
   "outputs": [
    {
     "name": "stdout",
     "output_type": "stream",
     "text": [
      "logloss: 0.745 \n"
     ]
    }
   ],
   "source": [
    "# Fitting a simple xgboost on glove features\n",
    "clf = xgb.XGBClassifier(nthread=10, silent=False)\n",
    "clf.fit(xtrain_glove, ytrain)\n",
    "predictions = clf.predict_proba(xvalid_glove)\n",
    "\n",
    "print (\"logloss: %0.3f \" % multiclass_logloss(yvalid, predictions))"
   ]
  },
  {
   "cell_type": "markdown",
   "metadata": {},
   "source": [
    "# !!!  Stop here and make a prediction. loglogg 0.745 !!! ------------------- *** "
   ]
  },
  {
   "cell_type": "code",
   "execution_count": 73,
   "metadata": {},
   "outputs": [
    {
     "name": "stdout",
     "output_type": "stream",
     "text": [
      "[1 1 1 ... 1 1 0]\n"
     ]
    }
   ],
   "source": [
    "# Test Prediction Sequence 1/4\n",
    "test_predictions = clf.predict_proba(xtest_glove)\n",
    "labels = np.argmax(test_predictions, axis=-1)    "
   ]
  },
  {
   "cell_type": "code",
   "execution_count": 76,
   "metadata": {},
   "outputs": [],
   "source": [
    "# Test Prediction Sequence 2/4\n",
    "subNumber += 1\n",
    "submission = pd.DataFrame({'id': sample['id'], 'ratingCategory':labels})\n",
    "# submission['ratingCategory'] = submission['ratingCategory'].astype('int64')\n",
    "submission.to_csv(f'../data/submission{subNumber}.csv', index=False)\n"
   ]
  },
  {
   "cell_type": "code",
   "execution_count": 84,
   "metadata": {},
   "outputs": [
    {
     "data": {
      "text/plain": [
       "1    866\n",
       "0    156\n",
       "Name: ratingCategory, dtype: int64"
      ]
     },
     "execution_count": 84,
     "metadata": {},
     "output_type": "execute_result"
    }
   ],
   "source": [
    "# Test Prediction Sequence 3/4\n",
    "submission['ratingCategory'].value_counts()"
   ]
  },
  {
   "cell_type": "code",
   "execution_count": 81,
   "metadata": {},
   "outputs": [
    {
     "data": {
      "image/png": "[encoded data removed]",
      "text/plain": [
       "<Figure size 432x288 with 1 Axes>"
      ]
     },
     "metadata": {
      "needs_background": "light"
     },
     "output_type": "display_data"
    }
   ],
   "source": [
    "# Test Prediction Sequence 4/4\n",
    "\n",
    "sns.countplot(x='ratingCategory', data=submission);"
   ]
  },
  {
   "cell_type": "code",
   "execution_count": 86,
   "metadata": {},
   "outputs": [
    {
     "name": "stdout",
     "output_type": "stream",
     "text": [
      "logloss: 0.693 \n"
     ]
    }
   ],
   "source": [
    "# Fitting a simple xgboost on glove features\n",
    "clf = xgb.XGBClassifier(max_depth=7, n_estimators=200, colsample_bytree=0.8, \n",
    "                        subsample=0.8, nthread=10, learning_rate=0.1, silent=False)\n",
    "clf.fit(xtrain_glove, ytrain)\n",
    "predictions = clf.predict_proba(xvalid_glove)\n",
    "\n",
    "print (\"logloss: %0.3f \" % multiclass_logloss(yvalid, predictions))"
   ]
  },
  {
   "cell_type": "code",
   "execution_count": 87,
   "metadata": {},
   "outputs": [],
   "source": [
    "# Test Prediction Sequence 1/4\n",
    "test_predictions = clf.predict_proba(xtest_glove)\n",
    "labels = np.argmax(test_predictions, axis=-1)    "
   ]
  },
  {
   "cell_type": "code",
   "execution_count": 91,
   "metadata": {},
   "outputs": [],
   "source": [
    "# Test Prediction Sequence 2/4\n",
    "subNumber += 1\n",
    "submission = pd.DataFrame({'id': sample['id'], 'ratingCategory':labels})\n",
    "# submission['ratingCategory'] = submission['ratingCategory'].astype('int64')\n",
    "submission.to_csv(f'../data/submission{subNumber}.csv', index=False)\n",
    "print(subNumber)"
   ]
  },
  {
   "cell_type": "code",
   "execution_count": 89,
   "metadata": {},
   "outputs": [
    {
     "data": {
      "text/plain": [
       "1    878\n",
       "0    144\n",
       "Name: ratingCategory, dtype: int64"
      ]
     },
     "execution_count": 89,
     "metadata": {},
     "output_type": "execute_result"
    }
   ],
   "source": [
    "# Test Prediction Sequence 3/4\n",
    "submission['ratingCategory'].value_counts()"
   ]
  },
  {
   "cell_type": "code",
   "execution_count": 90,
   "metadata": {},
   "outputs": [
    {
     "data": {
      "image/png": "[encoded data removed]",
      "text/plain": [
       "<Figure size 432x288 with 1 Axes>"
      ]
     },
     "metadata": {
      "needs_background": "light"
     },
     "output_type": "display_data"
    }
   ],
   "source": [
    "# Test Prediction Sequence 4/4\n",
    "\n",
    "sns.countplot(x='ratingCategory', data=submission);"
   ]
  },
  {
   "cell_type": "markdown",
   "metadata": {},
   "source": [
    "# Deep learning "
   ]
  },
  {
   "cell_type": "code",
   "execution_count": 96,
   "metadata": {},
   "outputs": [],
   "source": [
    "# scale the data before any neural net:\n",
    "scl = preprocessing.StandardScaler()\n",
    "xtrain_glove_scl = scl.fit_transform(xtrain_glove)\n",
    "xvalid_glove_scl = scl.transform(xvalid_glove)\n",
    "xtest_glove_scl = scl.transform(xtest_glove)"
   ]
  },
  {
   "cell_type": "code",
   "execution_count": 97,
   "metadata": {},
   "outputs": [],
   "source": [
    "# we need to binarize the labels for the neural net\n",
    "ytrain_enc = np_utils.to_categorical(ytrain)\n",
    "yvalid_enc = np_utils.to_categorical(yvalid)"
   ]
  },
  {
   "cell_type": "code",
   "execution_count": 98,
   "metadata": {},
   "outputs": [],
   "source": [
    "# create a simple 3 layer sequential neural net\n",
    "model = Sequential()\n",
    "\n",
    "model.add(Dense(300, input_dim=300, activation='relu'))\n",
    "model.add(Dropout(0.2))\n",
    "model.add(BatchNormalization())\n",
    "\n",
    "model.add(Dense(300, activation='relu'))\n",
    "model.add(Dropout(0.3))\n",
    "model.add(BatchNormalization())\n",
    "\n",
    "model.add(Dense(3))\n",
    "model.add(Activation('softmax'))\n",
    "\n",
    "# compile the model\n",
    "model.compile(loss='categorical_crossentropy', optimizer='adam')\n"
   ]
  },
  {
   "cell_type": "code",
   "execution_count": 100,
   "metadata": {},
   "outputs": [
    {
     "name": "stdout",
     "output_type": "stream",
     "text": [
      "Train on 3678 samples, validate on 409 samples\n",
      "Epoch 1/15\n",
      "3678/3678 [==============================] - 0s 84us/step - loss: 0.4089 - val_loss: 0.5977\n",
      "Epoch 2/15\n",
      "3678/3678 [==============================] - 0s 79us/step - loss: 0.3590 - val_loss: 0.6266\n",
      "Epoch 3/15\n",
      "3678/3678 [==============================] - 0s 76us/step - loss: 0.3240 - val_loss: 0.6398\n",
      "Epoch 4/15\n",
      "3678/3678 [==============================] - 0s 76us/step - loss: 0.3012 - val_loss: 0.6613\n",
      "Epoch 5/15\n",
      "3678/3678 [==============================] - 0s 74us/step - loss: 0.2888 - val_loss: 0.6403\n",
      "Epoch 6/15\n",
      "3678/3678 [==============================] - 0s 79us/step - loss: 0.2435 - val_loss: 0.6547\n",
      "Epoch 7/15\n",
      "3678/3678 [==============================] - 0s 76us/step - loss: 0.2194 - val_loss: 0.7095\n",
      "Epoch 8/15\n",
      "3678/3678 [==============================] - 0s 75us/step - loss: 0.2106 - val_loss: 0.7641\n",
      "Epoch 9/15\n",
      "3678/3678 [==============================] - 0s 75us/step - loss: 0.1859 - val_loss: 0.7405\n",
      "Epoch 10/15\n",
      "3678/3678 [==============================] - 0s 72us/step - loss: 0.1640 - val_loss: 0.7629\n",
      "Epoch 11/15\n",
      "3678/3678 [==============================] - 0s 75us/step - loss: 0.1594 - val_loss: 0.8356\n",
      "Epoch 12/15\n",
      "3678/3678 [==============================] - 0s 74us/step - loss: 0.1362 - val_loss: 0.8618\n",
      "Epoch 13/15\n",
      "3678/3678 [==============================] - 0s 80us/step - loss: 0.1430 - val_loss: 0.8386\n",
      "Epoch 14/15\n",
      "3678/3678 [==============================] - 0s 76us/step - loss: 0.1379 - val_loss: 0.8540\n",
      "Epoch 15/15\n",
      "3678/3678 [==============================] - 0s 77us/step - loss: 0.1174 - val_loss: 0.8488\n"
     ]
    },
    {
     "data": {
      "text/plain": [
       "<keras.callbacks.callbacks.History at 0x1a404206d8>"
      ]
     },
     "execution_count": 100,
     "metadata": {},
     "output_type": "execute_result"
    }
   ],
   "source": [
    "model.fit(xtrain_glove_scl, y=ytrain_enc, batch_size=64, \n",
    "          epochs=15, verbose=1, \n",
    "          validation_data=(xvalid_glove_scl, yvalid_enc))"
   ]
  },
  {
   "cell_type": "markdown",
   "metadata": {},
   "source": [
    "### get accuracy and a submission before moving on"
   ]
  },
  {
   "cell_type": "markdown",
   "metadata": {},
   "source": [
    "### ---------------- ** --------------------"
   ]
  },
  {
   "cell_type": "code",
   "execution_count": 101,
   "metadata": {},
   "outputs": [],
   "source": [
    "# Test Prediction Sequence 1/4\n",
    "test_predictions = model.predict_proba(xtest_glove_scl)\n",
    "labels = np.argmax(test_predictions, axis=-1)    "
   ]
  },
  {
   "cell_type": "code",
   "execution_count": 103,
   "metadata": {},
   "outputs": [
    {
     "name": "stdout",
     "output_type": "stream",
     "text": [
      "1006\n"
     ]
    }
   ],
   "source": [
    "# Test Prediction Sequence 2/4\n",
    "subNumber += 1\n",
    "submission = pd.DataFrame({'id': sample['id'], 'ratingCategory':labels})\n",
    "# submission['ratingCategory'] = submission['ratingCategory'].astype('int64')\n",
    "submission.to_csv(f'../data/deepsub{subNumber}.csv', index=False)\n",
    "print(subNumber)"
   ]
  },
  {
   "cell_type": "code",
   "execution_count": 104,
   "metadata": {},
   "outputs": [
    {
     "data": {
      "text/plain": [
       "1    742\n",
       "0    278\n",
       "2      2\n",
       "Name: ratingCategory, dtype: int64"
      ]
     },
     "execution_count": 104,
     "metadata": {},
     "output_type": "execute_result"
    }
   ],
   "source": [
    "# Test Prediction Sequence 3/4\n",
    "submission['ratingCategory'].value_counts()"
   ]
  },
  {
   "cell_type": "code",
   "execution_count": 105,
   "metadata": {},
   "outputs": [
    {
     "data": {
      "image/png": "[encoded data removed]",
      "text/plain": [
       "<Figure size 432x288 with 1 Axes>"
      ]
     },
     "metadata": {
      "needs_background": "light"
     },
     "output_type": "display_data"
    }
   ],
   "source": [
    "# Test Prediction Sequence 4/4\n",
    "sns.countplot(x='ratingCategory', data=submission);"
   ]
  },
  {
   "cell_type": "markdown",
   "metadata": {},
   "source": [
    "## Using Keras Tokenizer"
   ]
  },
  {
   "cell_type": "code",
   "execution_count": 110,
   "metadata": {},
   "outputs": [],
   "source": [
    "# using keras tokenizer here\n",
    "token = text.Tokenizer(num_words=None)\n",
    "max_len = 70\n",
    "\n",
    "token.fit_on_texts(list(xtrain) + list(xvalid))\n",
    "xtrain_seq = token.texts_to_sequences(xtrain)\n",
    "xvalid_seq = token.texts_to_sequences(xvalid)\n",
    "xtest_seq = token.texts_to_sequences(xtest)\n",
    "\n",
    "\n",
    "# zero pad the sequences\n",
    "xtrain_pad = sequence.pad_sequences(xtrain_seq, maxlen=max_len)\n",
    "xvalid_pad = sequence.pad_sequences(xvalid_seq, maxlen=max_len)\n",
    "xtest_pad = sequence.pad_sequences(xtest_seq, maxlen=max_len)\n",
    "\n",
    "word_index = token.word_index"
   ]
  },
  {
   "cell_type": "code",
   "execution_count": 111,
   "metadata": {},
   "outputs": [
    {
     "name": "stderr",
     "output_type": "stream",
     "text": [
      "100%|██████████| 12377/12377 [00:00<00:00, 52279.80it/s]\n"
     ]
    }
   ],
   "source": [
    "# create an embedding matrix for the words we have in the dataset\n",
    "embedding_matrix = np.zeros((len(word_index) + 1, 300))\n",
    "for word, i in tqdm(word_index.items()):\n",
    "    embedding_vector = embeddings_index.get(word)\n",
    "    if embedding_vector is not None:\n",
    "        embedding_matrix[i] = embedding_vector\n"
   ]
  },
  {
   "cell_type": "code",
   "execution_count": 112,
   "metadata": {},
   "outputs": [],
   "source": [
    "# A simple LSTM with glove embeddings and two dense layers\n",
    "model = Sequential()\n",
    "model.add(Embedding(len(word_index) + 1,\n",
    "                     300,\n",
    "                     weights=[embedding_matrix],\n",
    "                     input_length=max_len,\n",
    "                     trainable=False))\n",
    "model.add(SpatialDropout1D(0.3))\n",
    "model.add(LSTM(100, dropout=0.3, recurrent_dropout=0.3))\n",
    "\n",
    "model.add(Dense(1024, activation='relu'))\n",
    "model.add(Dropout(0.8))\n",
    "\n",
    "model.add(Dense(1024, activation='relu'))\n",
    "model.add(Dropout(0.8))\n",
    "\n",
    "model.add(Dense(3))\n",
    "model.add(Activation('softmax'))\n",
    "model.compile(loss='categorical_crossentropy', optimizer='adam')"
   ]
  },
  {
   "cell_type": "code",
   "execution_count": 113,
   "metadata": {},
   "outputs": [
    {
     "name": "stdout",
     "output_type": "stream",
     "text": [
      "Train on 3678 samples, validate on 409 samples\n",
      "Epoch 1/100\n",
      "3678/3678 [==============================] - 5s 1ms/step - loss: 0.8134 - val_loss: 0.6947\n",
      "Epoch 2/100\n",
      "3678/3678 [==============================] - 4s 1ms/step - loss: 0.7008 - val_loss: 0.6564\n",
      "Epoch 3/100\n",
      "3678/3678 [==============================] - 4s 1ms/step - loss: 0.6749 - val_loss: 0.6726\n",
      "Epoch 4/100\n",
      "3678/3678 [==============================] - 4s 1ms/step - loss: 0.6662 - val_loss: 0.6533\n",
      "Epoch 5/100\n",
      "3678/3678 [==============================] - 4s 1ms/step - loss: 0.6603 - val_loss: 0.6476\n",
      "Epoch 6/100\n",
      "3678/3678 [==============================] - 4s 1ms/step - loss: 0.6500 - val_loss: 0.6293\n",
      "Epoch 7/100\n",
      "3678/3678 [==============================] - 5s 1ms/step - loss: 0.6484 - val_loss: 0.6133\n",
      "Epoch 8/100\n",
      "3678/3678 [==============================] - 4s 1ms/step - loss: 0.6370 - val_loss: 0.5965\n",
      "Epoch 9/100\n",
      "3678/3678 [==============================] - 5s 1ms/step - loss: 0.6289 - val_loss: 0.6045\n",
      "Epoch 10/100\n",
      "3678/3678 [==============================] - 4s 1ms/step - loss: 0.6281 - val_loss: 0.5780\n",
      "Epoch 11/100\n",
      "3678/3678 [==============================] - 4s 1ms/step - loss: 0.6241 - val_loss: 0.5871\n",
      "Epoch 12/100\n",
      "3678/3678 [==============================] - 5s 1ms/step - loss: 0.6186 - val_loss: 0.5817\n",
      "Epoch 13/100\n",
      "3678/3678 [==============================] - 5s 1ms/step - loss: 0.6173 - val_loss: 0.5952\n",
      "Epoch 14/100\n",
      "3678/3678 [==============================] - 5s 1ms/step - loss: 0.6092 - val_loss: 0.5708\n",
      "Epoch 15/100\n",
      "3678/3678 [==============================] - 6s 2ms/step - loss: 0.6095 - val_loss: 0.5654\n",
      "Epoch 16/100\n",
      "3678/3678 [==============================] - 5s 1ms/step - loss: 0.5976 - val_loss: 0.5618\n",
      "Epoch 17/100\n",
      "3678/3678 [==============================] - 5s 1ms/step - loss: 0.5966 - val_loss: 0.5681\n",
      "Epoch 18/100\n",
      "3678/3678 [==============================] - 5s 1ms/step - loss: 0.6029 - val_loss: 0.5602\n",
      "Epoch 19/100\n",
      "3678/3678 [==============================] - 5s 1ms/step - loss: 0.6047 - val_loss: 0.5874\n",
      "Epoch 20/100\n",
      "3678/3678 [==============================] - 5s 1ms/step - loss: 0.5981 - val_loss: 0.5594\n",
      "Epoch 21/100\n",
      "3678/3678 [==============================] - 5s 1ms/step - loss: 0.5857 - val_loss: 0.5567\n",
      "Epoch 22/100\n",
      "3678/3678 [==============================] - 5s 1ms/step - loss: 0.5779 - val_loss: 0.5599\n",
      "Epoch 23/100\n",
      "3678/3678 [==============================] - 4s 1ms/step - loss: 0.5816 - val_loss: 0.5526\n",
      "Epoch 24/100\n",
      "3678/3678 [==============================] - 4s 1ms/step - loss: 0.5734 - val_loss: 0.5483\n",
      "Epoch 25/100\n",
      "3678/3678 [==============================] - 4s 1ms/step - loss: 0.5764 - val_loss: 0.5516\n",
      "Epoch 26/100\n",
      "3678/3678 [==============================] - 5s 1ms/step - loss: 0.5763 - val_loss: 0.5529\n",
      "Epoch 27/100\n",
      "3678/3678 [==============================] - 5s 1ms/step - loss: 0.5627 - val_loss: 0.5441\n",
      "Epoch 28/100\n",
      "3678/3678 [==============================] - 5s 1ms/step - loss: 0.5699 - val_loss: 0.5476\n",
      "Epoch 29/100\n",
      "3678/3678 [==============================] - 5s 1ms/step - loss: 0.5600 - val_loss: 0.5346\n",
      "Epoch 30/100\n",
      "3678/3678 [==============================] - 4s 1ms/step - loss: 0.5497 - val_loss: 0.5397\n",
      "Epoch 31/100\n",
      "3678/3678 [==============================] - 4s 1ms/step - loss: 0.5522 - val_loss: 0.5456\n",
      "Epoch 32/100\n",
      "3678/3678 [==============================] - 4s 1ms/step - loss: 0.5532 - val_loss: 0.5419\n",
      "Epoch 33/100\n",
      "3678/3678 [==============================] - 4s 1ms/step - loss: 0.5438 - val_loss: 0.5402\n",
      "Epoch 34/100\n",
      "3678/3678 [==============================] - 4s 1ms/step - loss: 0.5483 - val_loss: 0.5469\n",
      "Epoch 35/100\n",
      "3678/3678 [==============================] - 6s 2ms/step - loss: 0.5517 - val_loss: 0.5471\n",
      "Epoch 36/100\n",
      "3678/3678 [==============================] - 5s 1ms/step - loss: 0.5394 - val_loss: 0.5443\n",
      "Epoch 37/100\n",
      "3678/3678 [==============================] - 5s 1ms/step - loss: 0.5321 - val_loss: 0.5358\n",
      "Epoch 38/100\n",
      "3678/3678 [==============================] - 5s 1ms/step - loss: 0.5381 - val_loss: 0.5403\n",
      "Epoch 39/100\n",
      "3678/3678 [==============================] - 4s 1ms/step - loss: 0.5203 - val_loss: 0.5346\n",
      "Epoch 40/100\n",
      "3678/3678 [==============================] - 4s 1ms/step - loss: 0.5108 - val_loss: 0.5478\n",
      "Epoch 41/100\n",
      "3678/3678 [==============================] - 4s 1ms/step - loss: 0.5201 - val_loss: 0.5330\n",
      "Epoch 42/100\n",
      "3678/3678 [==============================] - 4s 1ms/step - loss: 0.5085 - val_loss: 0.5334\n",
      "Epoch 43/100\n",
      "3678/3678 [==============================] - 4s 1ms/step - loss: 0.5084 - val_loss: 0.5379\n",
      "Epoch 44/100\n",
      "3678/3678 [==============================] - 4s 1ms/step - loss: 0.5026 - val_loss: 0.5295\n",
      "Epoch 45/100\n",
      "3678/3678 [==============================] - 4s 1ms/step - loss: 0.4987 - val_loss: 0.5329\n",
      "Epoch 46/100\n",
      "3678/3678 [==============================] - 4s 1ms/step - loss: 0.4908 - val_loss: 0.5357\n",
      "Epoch 47/100\n",
      "3678/3678 [==============================] - 4s 1ms/step - loss: 0.4965 - val_loss: 0.5435\n",
      "Epoch 48/100\n",
      "3678/3678 [==============================] - 4s 1ms/step - loss: 0.4899 - val_loss: 0.5414\n",
      "Epoch 49/100\n",
      "3678/3678 [==============================] - 4s 1ms/step - loss: 0.4774 - val_loss: 0.5318\n",
      "Epoch 50/100\n",
      "3678/3678 [==============================] - 4s 1ms/step - loss: 0.4862 - val_loss: 0.5374\n",
      "Epoch 51/100\n",
      "3678/3678 [==============================] - 4s 1ms/step - loss: 0.4855 - val_loss: 0.5340\n",
      "Epoch 52/100\n",
      "3678/3678 [==============================] - 4s 1ms/step - loss: 0.4705 - val_loss: 0.5308\n",
      "Epoch 53/100\n",
      "3678/3678 [==============================] - 4s 1ms/step - loss: 0.4792 - val_loss: 0.5411\n",
      "Epoch 54/100\n",
      "3678/3678 [==============================] - 4s 1ms/step - loss: 0.4645 - val_loss: 0.5446\n",
      "Epoch 55/100\n",
      "3678/3678 [==============================] - 4s 1ms/step - loss: 0.4648 - val_loss: 0.5362\n",
      "Epoch 56/100\n",
      "3678/3678 [==============================] - 4s 1ms/step - loss: 0.4478 - val_loss: 0.5382\n",
      "Epoch 57/100\n",
      "3678/3678 [==============================] - 4s 1ms/step - loss: 0.4487 - val_loss: 0.5445\n",
      "Epoch 58/100\n",
      "3678/3678 [==============================] - 4s 1ms/step - loss: 0.4387 - val_loss: 0.5515\n",
      "Epoch 59/100\n",
      "3678/3678 [==============================] - 4s 1ms/step - loss: 0.4659 - val_loss: 0.5479\n",
      "Epoch 60/100\n",
      "3678/3678 [==============================] - 4s 1ms/step - loss: 0.4474 - val_loss: 0.5395\n",
      "Epoch 61/100\n",
      "3678/3678 [==============================] - 4s 1ms/step - loss: 0.4406 - val_loss: 0.5362\n",
      "Epoch 62/100\n",
      "3678/3678 [==============================] - 4s 1ms/step - loss: 0.4414 - val_loss: 0.5533\n",
      "Epoch 63/100\n",
      "3678/3678 [==============================] - 4s 1ms/step - loss: 0.4409 - val_loss: 0.5387\n",
      "Epoch 64/100\n",
      "3678/3678 [==============================] - 4s 1ms/step - loss: 0.4195 - val_loss: 0.5533\n",
      "Epoch 65/100\n",
      "3678/3678 [==============================] - 4s 1ms/step - loss: 0.4044 - val_loss: 0.5538\n",
      "Epoch 66/100\n",
      "3678/3678 [==============================] - 4s 1ms/step - loss: 0.4149 - val_loss: 0.5589\n",
      "Epoch 67/100\n",
      "3678/3678 [==============================] - 4s 1ms/step - loss: 0.4230 - val_loss: 0.5836\n",
      "Epoch 68/100\n",
      "3678/3678 [==============================] - 4s 1ms/step - loss: 0.4071 - val_loss: 0.5543\n",
      "Epoch 69/100\n",
      "3678/3678 [==============================] - 4s 1ms/step - loss: 0.4117 - val_loss: 0.5683\n",
      "Epoch 70/100\n",
      "3678/3678 [==============================] - 4s 1ms/step - loss: 0.3963 - val_loss: 0.5645\n",
      "Epoch 71/100\n",
      "3678/3678 [==============================] - 4s 1ms/step - loss: 0.3861 - val_loss: 0.5796\n",
      "Epoch 72/100\n",
      "3678/3678 [==============================] - 4s 1ms/step - loss: 0.4034 - val_loss: 0.5691\n",
      "Epoch 73/100\n",
      "3678/3678 [==============================] - 4s 1ms/step - loss: 0.3713 - val_loss: 0.5579\n",
      "Epoch 74/100\n",
      "3678/3678 [==============================] - 4s 1ms/step - loss: 0.3821 - val_loss: 0.5792\n",
      "Epoch 75/100\n",
      "3678/3678 [==============================] - 4s 1ms/step - loss: 0.3643 - val_loss: 0.5747\n",
      "Epoch 76/100\n",
      "3678/3678 [==============================] - 4s 1ms/step - loss: 0.3669 - val_loss: 0.5914\n",
      "Epoch 77/100\n",
      "3678/3678 [==============================] - 4s 1ms/step - loss: 0.3592 - val_loss: 0.6019\n",
      "Epoch 78/100\n",
      "3678/3678 [==============================] - 4s 1ms/step - loss: 0.3608 - val_loss: 0.6128\n",
      "Epoch 79/100\n",
      "3678/3678 [==============================] - 4s 1ms/step - loss: 0.3574 - val_loss: 0.6164\n",
      "Epoch 80/100\n",
      "3678/3678 [==============================] - 4s 1ms/step - loss: 0.3394 - val_loss: 0.5999\n",
      "Epoch 81/100\n",
      "3678/3678 [==============================] - 4s 1ms/step - loss: 0.3477 - val_loss: 0.5848\n",
      "Epoch 82/100\n",
      "3678/3678 [==============================] - 4s 1ms/step - loss: 0.3319 - val_loss: 0.6273\n",
      "Epoch 83/100\n",
      "3678/3678 [==============================] - 4s 1ms/step - loss: 0.3290 - val_loss: 0.6294\n",
      "Epoch 84/100\n",
      "3678/3678 [==============================] - 4s 1ms/step - loss: 0.3302 - val_loss: 0.6475\n",
      "Epoch 85/100\n",
      "3678/3678 [==============================] - 4s 1ms/step - loss: 0.3333 - val_loss: 0.6241\n",
      "Epoch 86/100\n",
      "3678/3678 [==============================] - 4s 1ms/step - loss: 0.3115 - val_loss: 0.6095\n",
      "Epoch 87/100\n",
      "3678/3678 [==============================] - 4s 1ms/step - loss: 0.3080 - val_loss: 0.6386\n",
      "Epoch 88/100\n",
      "3678/3678 [==============================] - 4s 1ms/step - loss: 0.3307 - val_loss: 0.6340\n",
      "Epoch 89/100\n",
      "3678/3678 [==============================] - 4s 1ms/step - loss: 0.3018 - val_loss: 0.6333\n",
      "Epoch 90/100\n",
      "3678/3678 [==============================] - 4s 1ms/step - loss: 0.3017 - val_loss: 0.6671\n",
      "Epoch 91/100\n",
      "3678/3678 [==============================] - 4s 1ms/step - loss: 0.3024 - val_loss: 0.6520\n",
      "Epoch 92/100\n",
      "3678/3678 [==============================] - 4s 1ms/step - loss: 0.2999 - val_loss: 0.6743\n",
      "Epoch 93/100\n",
      "3678/3678 [==============================] - 4s 1ms/step - loss: 0.3123 - val_loss: 0.6617\n",
      "Epoch 94/100\n",
      "3678/3678 [==============================] - 5s 1ms/step - loss: 0.2821 - val_loss: 0.6921\n",
      "Epoch 95/100\n",
      "3678/3678 [==============================] - 5s 1ms/step - loss: 0.2956 - val_loss: 0.6706\n",
      "Epoch 96/100\n",
      "3678/3678 [==============================] - 4s 1ms/step - loss: 0.2772 - val_loss: 0.6666\n",
      "Epoch 97/100\n",
      "3678/3678 [==============================] - 5s 1ms/step - loss: 0.2864 - val_loss: 0.6800\n",
      "Epoch 98/100\n",
      "3678/3678 [==============================] - 4s 1ms/step - loss: 0.2777 - val_loss: 0.7171\n",
      "Epoch 99/100\n",
      "3678/3678 [==============================] - 4s 1ms/step - loss: 0.2799 - val_loss: 0.6999\n",
      "Epoch 100/100\n",
      "3678/3678 [==============================] - 4s 1ms/step - loss: 0.2601 - val_loss: 0.7225\n"
     ]
    },
    {
     "data": {
      "text/plain": [
       "<keras.callbacks.callbacks.History at 0x1a57dffc18>"
      ]
     },
     "execution_count": 113,
     "metadata": {},
     "output_type": "execute_result"
    }
   ],
   "source": [
    "model.fit(xtrain_pad, y=ytrain_enc, batch_size=512, epochs=100, verbose=1, validation_data=(xvalid_pad, yvalid_enc))"
   ]
  },
  {
   "cell_type": "code",
   "execution_count": null,
   "metadata": {},
   "outputs": [],
   "source": []
  },
  {
   "cell_type": "code",
   "execution_count": 115,
   "metadata": {},
   "outputs": [],
   "source": [
    "# Test Prediction Sequence 1/4\n",
    "test_predictions = model.predict_proba(xtest_pad)\n",
    "labels = np.argmax(test_predictions, axis=-1)    "
   ]
  },
  {
   "cell_type": "code",
   "execution_count": 116,
   "metadata": {},
   "outputs": [
    {
     "name": "stdout",
     "output_type": "stream",
     "text": [
      "1007\n"
     ]
    }
   ],
   "source": [
    "# Test Prediction Sequence 2/4\n",
    "subNumber += 1\n",
    "submission = pd.DataFrame({'id': sample['id'], 'ratingCategory':labels})\n",
    "# submission['ratingCategory'] = submission['ratingCategory'].astype('int64')\n",
    "submission.to_csv(f'../data/deepsub{subNumber}.csv', index=False)\n",
    "print(subNumber)"
   ]
  },
  {
   "cell_type": "code",
   "execution_count": 117,
   "metadata": {},
   "outputs": [
    {
     "data": {
      "text/plain": [
       "1    752\n",
       "0    268\n",
       "2      2\n",
       "Name: ratingCategory, dtype: int64"
      ]
     },
     "execution_count": 117,
     "metadata": {},
     "output_type": "execute_result"
    }
   ],
   "source": [
    "# Test Prediction Sequence 3/4\n",
    "submission['ratingCategory'].value_counts()"
   ]
  },
  {
   "cell_type": "code",
   "execution_count": null,
   "metadata": {},
   "outputs": [],
   "source": [
    "# Test Prediction Sequence 4/4\n",
    "sns.countplot(x='ratingCategory', data=submission);"
   ]
  },
  {
   "cell_type": "markdown",
   "metadata": {},
   "source": [
    "# Implement Early Stopping "
   ]
  },
  {
   "cell_type": "markdown",
   "metadata": {},
   "source": [
    "We see that the score is now less than 0.5. I ran it for many epochs without stopping at the best but you can use early stopping to stop at the best iteration. How do I use early stopping?\n",
    "\n",
    "well, pretty easy. let's compile the model again:"
   ]
  },
  {
   "cell_type": "code",
   "execution_count": null,
   "metadata": {},
   "outputs": [],
   "source": []
  },
  {
   "cell_type": "markdown",
   "metadata": {},
   "source": [
    "# A simple LSTM with glove embeddings and two dense layers\n"
   ]
  },
  {
   "cell_type": "code",
   "execution_count": 120,
   "metadata": {},
   "outputs": [
    {
     "name": "stdout",
     "output_type": "stream",
     "text": [
      "Train on 3678 samples, validate on 409 samples\n",
      "Epoch 1/100\n",
      "3678/3678 [==============================] - 13s 4ms/step - loss: 0.7794 - val_loss: 0.6766\n",
      "Epoch 2/100\n",
      "3678/3678 [==============================] - 13s 3ms/step - loss: 0.6850 - val_loss: 0.6749\n",
      "Epoch 3/100\n",
      "3678/3678 [==============================] - 14s 4ms/step - loss: 0.6684 - val_loss: 0.6710\n",
      "Epoch 4/100\n",
      "3678/3678 [==============================] - 14s 4ms/step - loss: 0.6663 - val_loss: 0.6384\n",
      "Epoch 5/100\n",
      "3678/3678 [==============================] - 14s 4ms/step - loss: 0.6513 - val_loss: 0.6268\n",
      "Epoch 6/100\n",
      "3678/3678 [==============================] - 14s 4ms/step - loss: 0.6399 - val_loss: 0.5925\n",
      "Epoch 7/100\n",
      "3678/3678 [==============================] - 13s 4ms/step - loss: 0.6362 - val_loss: 0.5869\n",
      "Epoch 8/100\n",
      "3678/3678 [==============================] - 13s 3ms/step - loss: 0.6281 - val_loss: 0.5951\n",
      "Epoch 9/100\n",
      "3678/3678 [==============================] - 13s 4ms/step - loss: 0.6475 - val_loss: 0.5924\n",
      "Epoch 10/100\n",
      "3678/3678 [==============================] - 13s 4ms/step - loss: 0.6266 - val_loss: 0.5960\n"
     ]
    },
    {
     "data": {
      "text/plain": [
       "<keras.callbacks.callbacks.History at 0x1a5ec434a8>"
      ]
     },
     "execution_count": 120,
     "metadata": {},
     "output_type": "execute_result"
    }
   ],
   "source": [
    "model = Sequential()\n",
    "model.add(Embedding(len(word_index) + 1,\n",
    "                     300,\n",
    "                     weights=[embedding_matrix],\n",
    "                     input_length=max_len,\n",
    "                     trainable=False))\n",
    "model.add(SpatialDropout1D(0.3))\n",
    "model.add(LSTM(300, dropout=0.3, recurrent_dropout=0.3))\n",
    "\n",
    "model.add(Dense(1024, activation='relu'))\n",
    "model.add(Dropout(0.8))\n",
    "\n",
    "model.add(Dense(1024, activation='relu'))\n",
    "model.add(Dropout(0.8))\n",
    "\n",
    "model.add(Dense(3))\n",
    "model.add(Activation('softmax'))\n",
    "model.compile(loss='categorical_crossentropy', optimizer='adam')\n",
    "\n",
    "# Fit the model with early stopping callback\n",
    "earlystop = EarlyStopping(monitor='val_loss', min_delta=0, patience=3, verbose=0, mode='auto')\n",
    "model.fit(xtrain_pad, y=ytrain_enc, batch_size=512, epochs=100, \n",
    "          verbose=1, validation_data=(xvalid_pad, yvalid_enc), callbacks=[earlystop])\n",
    "\n"
   ]
  },
  {
   "cell_type": "code",
   "execution_count": 121,
   "metadata": {},
   "outputs": [],
   "source": [
    "# Test Prediction Sequence 1/4\n",
    "test_predictions = model.predict_proba(xtest_pad)\n",
    "labels = np.argmax(test_predictions, axis=-1)"
   ]
  },
  {
   "cell_type": "code",
   "execution_count": 122,
   "metadata": {},
   "outputs": [
    {
     "name": "stdout",
     "output_type": "stream",
     "text": [
      "1008\n"
     ]
    }
   ],
   "source": [
    "# Test Prediction Sequence 2/4\n",
    "subNumber += 1\n",
    "submission = pd.DataFrame({'id': sample['id'], 'ratingCategory':labels})\n",
    "# submission['ratingCategory'] = submission['ratingCategory'].astype('int64')\n",
    "submission.to_csv(f'../data/deepsub{subNumber}.csv', index=False)\n",
    "print(subNumber)"
   ]
  },
  {
   "cell_type": "code",
   "execution_count": 123,
   "metadata": {},
   "outputs": [
    {
     "data": {
      "text/plain": [
       "1    859\n",
       "0    163\n",
       "Name: ratingCategory, dtype: int64"
      ]
     },
     "execution_count": 123,
     "metadata": {},
     "output_type": "execute_result"
    }
   ],
   "source": [
    "# Test Prediction Sequence 3/4\n",
    "submission['ratingCategory'].value_counts()"
   ]
  },
  {
   "cell_type": "code",
   "execution_count": 124,
   "metadata": {},
   "outputs": [
    {
     "data": {
      "image/png": "[encoded data removed]",
      "text/plain": [
       "<Figure size 432x288 with 1 Axes>"
      ]
     },
     "metadata": {
      "needs_background": "light"
     },
     "output_type": "display_data"
    }
   ],
   "source": [
    "# Test Prediction Sequence 4/4\n",
    "sns.countplot(x='ratingCategory', data=submission);"
   ]
  },
  {
   "cell_type": "markdown",
   "metadata": {},
   "source": [
    "# A simple bidirectional LSTM with glove embeddings and two dense layers\n"
   ]
  },
  {
   "cell_type": "code",
   "execution_count": 125,
   "metadata": {},
   "outputs": [
    {
     "name": "stdout",
     "output_type": "stream",
     "text": [
      "Train on 3678 samples, validate on 409 samples\n",
      "Epoch 1/100\n",
      "3678/3678 [==============================] - 31s 8ms/step - loss: 0.8207 - val_loss: 0.7126\n",
      "Epoch 2/100\n",
      "3678/3678 [==============================] - 29s 8ms/step - loss: 0.6969 - val_loss: 0.6692\n",
      "Epoch 3/100\n",
      "3678/3678 [==============================] - 26s 7ms/step - loss: 0.6784 - val_loss: 0.6488\n",
      "Epoch 4/100\n",
      "3678/3678 [==============================] - 25s 7ms/step - loss: 0.6687 - val_loss: 0.6339\n",
      "Epoch 5/100\n",
      "3678/3678 [==============================] - 24s 6ms/step - loss: 0.6557 - val_loss: 0.6475\n",
      "Epoch 6/100\n",
      "3678/3678 [==============================] - 25s 7ms/step - loss: 0.6458 - val_loss: 0.6016\n",
      "Epoch 7/100\n",
      "3678/3678 [==============================] - 25s 7ms/step - loss: 0.6372 - val_loss: 0.5844\n",
      "Epoch 8/100\n",
      "3678/3678 [==============================] - 27s 7ms/step - loss: 0.6207 - val_loss: 0.5794\n",
      "Epoch 9/100\n",
      "3678/3678 [==============================] - 28s 8ms/step - loss: 0.6106 - val_loss: 0.5776\n",
      "Epoch 10/100\n",
      "3678/3678 [==============================] - 27s 7ms/step - loss: 0.6012 - val_loss: 0.5672\n",
      "Epoch 11/100\n",
      "3678/3678 [==============================] - 27s 7ms/step - loss: 0.5934 - val_loss: 0.6009\n",
      "Epoch 12/100\n",
      "3678/3678 [==============================] - 25s 7ms/step - loss: 0.5938 - val_loss: 0.6170\n",
      "Epoch 13/100\n",
      "3678/3678 [==============================] - 26s 7ms/step - loss: 0.6072 - val_loss: 0.6073\n"
     ]
    },
    {
     "data": {
      "text/plain": [
       "<keras.callbacks.callbacks.History at 0x1a5f62c7b8>"
      ]
     },
     "execution_count": 125,
     "metadata": {},
     "output_type": "execute_result"
    }
   ],
   "source": [
    "model = Sequential()\n",
    "model.add(Embedding(len(word_index) + 1,\n",
    "                     300,\n",
    "                     weights=[embedding_matrix],\n",
    "                     input_length=max_len,\n",
    "                     trainable=False))\n",
    "model.add(SpatialDropout1D(0.3))\n",
    "model.add(Bidirectional(LSTM(300, dropout=0.3, recurrent_dropout=0.3)))\n",
    "\n",
    "model.add(Dense(1024, activation='relu'))\n",
    "model.add(Dropout(0.8))\n",
    "\n",
    "model.add(Dense(1024, activation='relu'))\n",
    "model.add(Dropout(0.8))\n",
    "\n",
    "model.add(Dense(3))\n",
    "model.add(Activation('softmax'))\n",
    "model.compile(loss='categorical_crossentropy', optimizer='adam')\n",
    "\n",
    "# Fit the model with early stopping callback\n",
    "earlystop = EarlyStopping(monitor='val_loss', min_delta=0, patience=3, verbose=0, mode='auto')\n",
    "model.fit(xtrain_pad, y=ytrain_enc, batch_size=512, epochs=100, \n",
    "          verbose=1, validation_data=(xvalid_pad, yvalid_enc), callbacks=[earlystop])\n"
   ]
  },
  {
   "cell_type": "code",
   "execution_count": 126,
   "metadata": {},
   "outputs": [],
   "source": [
    "# Test Prediction Sequence 1/4\n",
    "test_predictions = model.predict_proba(xtest_pad)\n",
    "labels = np.argmax(test_predictions, axis=-1)"
   ]
  },
  {
   "cell_type": "code",
   "execution_count": 127,
   "metadata": {},
   "outputs": [
    {
     "name": "stdout",
     "output_type": "stream",
     "text": [
      "1009\n"
     ]
    }
   ],
   "source": [
    "# Test Prediction Sequence 2/4\n",
    "subNumber += 1\n",
    "submission = pd.DataFrame({'id': sample['id'], 'ratingCategory':labels})\n",
    "# submission['ratingCategory'] = submission['ratingCategory'].astype('int64')\n",
    "submission.to_csv(f'../data/deepsub{subNumber}.csv', index=False)\n",
    "print(subNumber)"
   ]
  },
  {
   "cell_type": "code",
   "execution_count": 128,
   "metadata": {},
   "outputs": [
    {
     "data": {
      "text/plain": [
       "1    783\n",
       "0    239\n",
       "Name: ratingCategory, dtype: int64"
      ]
     },
     "execution_count": 128,
     "metadata": {},
     "output_type": "execute_result"
    }
   ],
   "source": [
    "# Test Prediction Sequence 3/4\n",
    "submission['ratingCategory'].value_counts()"
   ]
  },
  {
   "cell_type": "code",
   "execution_count": 129,
   "metadata": {},
   "outputs": [
    {
     "data": {
      "image/png": "[encoded data removed]",
      "text/plain": [
       "<Figure size 432x288 with 1 Axes>"
      ]
     },
     "metadata": {
      "needs_background": "light"
     },
     "output_type": "display_data"
    }
   ],
   "source": [
    "# Test Prediction Sequence 4/4\n",
    "sns.countplot(x='ratingCategory', data=submission);"
   ]
  },
  {
   "cell_type": "markdown",
   "metadata": {},
   "source": [
    "# 2 GRU and Two Dense Layers"
   ]
  },
  {
   "cell_type": "code",
   "execution_count": 130,
   "metadata": {},
   "outputs": [
    {
     "name": "stdout",
     "output_type": "stream",
     "text": [
      "Train on 3678 samples, validate on 409 samples\n",
      "Epoch 1/100\n",
      "3678/3678 [==============================] - 26s 7ms/step - loss: 8.8135 - val_loss: 0.8121\n",
      "Epoch 2/100\n",
      "3678/3678 [==============================] - 26s 7ms/step - loss: 5.6153 - val_loss: 0.7471\n",
      "Epoch 3/100\n",
      "3678/3678 [==============================] - 24s 6ms/step - loss: 5.5030 - val_loss: 0.7167\n",
      "Epoch 4/100\n",
      "3678/3678 [==============================] - 25s 7ms/step - loss: 5.3194 - val_loss: 0.7100\n",
      "Epoch 5/100\n",
      "3678/3678 [==============================] - 23s 6ms/step - loss: 6.0983 - val_loss: 0.7204\n",
      "Epoch 6/100\n",
      "3678/3678 [==============================] - 23s 6ms/step - loss: 5.8313 - val_loss: 0.7019\n",
      "Epoch 7/100\n",
      "3678/3678 [==============================] - 22s 6ms/step - loss: 5.8204 - val_loss: 0.7271\n",
      "Epoch 8/100\n",
      "3678/3678 [==============================] - 22s 6ms/step - loss: 6.1869 - val_loss: 0.7120\n",
      "Epoch 9/100\n",
      "3678/3678 [==============================] - 23s 6ms/step - loss: 5.7118 - val_loss: 0.6655\n",
      "Epoch 10/100\n",
      "3678/3678 [==============================] - 25s 7ms/step - loss: 5.6356 - val_loss: 0.6783\n",
      "Epoch 11/100\n",
      "3678/3678 [==============================] - 21s 6ms/step - loss: 5.6006 - val_loss: 0.6917\n",
      "Epoch 12/100\n",
      "3678/3678 [==============================] - 21s 6ms/step - loss: 5.4779 - val_loss: 0.6993\n"
     ]
    },
    {
     "data": {
      "text/plain": [
       "<keras.callbacks.callbacks.History at 0x1a6334cf98>"
      ]
     },
     "execution_count": 130,
     "metadata": {},
     "output_type": "execute_result"
    }
   ],
   "source": [
    "# GRU with glove embeddings and two dense layers\n",
    "model = Sequential()\n",
    "model.add(Embedding(len(word_index) + 1,\n",
    "                     300,\n",
    "                     weights=[embedding_matrix],\n",
    "                     input_length=max_len,\n",
    "                     trainable=False))\n",
    "model.add(SpatialDropout1D(0.3))\n",
    "model.add(GRU(300, dropout=0.3, recurrent_dropout=0.3, return_sequences=True))\n",
    "model.add(GRU(300, dropout=0.3, recurrent_dropout=0.3))\n",
    "\n",
    "model.add(Dense(1024, activation='relu'))\n",
    "model.add(Dropout(0.8))\n",
    "\n",
    "model.add(Dense(1024, activation='relu'))\n",
    "model.add(Dropout(0.8))\n",
    "\n",
    "model.add(Dense(3))\n",
    "model.add(Activation('softmax'))\n",
    "model.compile(loss='categorical_crossentropy', optimizer='adam')\n",
    "\n",
    "# Fit the model with early stopping callback\n",
    "earlystop = EarlyStopping(monitor='val_loss', min_delta=0, patience=3, verbose=0, mode='auto')\n",
    "model.fit(xtrain_pad, y=ytrain_enc, batch_size=512, epochs=100, \n",
    "          verbose=1, validation_data=(xvalid_pad, yvalid_enc), callbacks=[earlystop])"
   ]
  },
  {
   "cell_type": "code",
   "execution_count": 131,
   "metadata": {},
   "outputs": [],
   "source": [
    "# Test Prediction Sequence 1/4\n",
    "test_predictions = model.predict_proba(xtest_pad)\n",
    "labels = np.argmax(test_predictions, axis=-1)"
   ]
  },
  {
   "cell_type": "code",
   "execution_count": 132,
   "metadata": {},
   "outputs": [
    {
     "name": "stdout",
     "output_type": "stream",
     "text": [
      "1010\n"
     ]
    }
   ],
   "source": [
    "# Test Prediction Sequence 2/4\n",
    "subNumber += 1\n",
    "submission = pd.DataFrame({'id': sample['id'], 'ratingCategory':labels})\n",
    "# submission['ratingCategory'] = submission['ratingCategory'].astype('int64')\n",
    "submission.to_csv(f'../data/deepsub{subNumber}.csv', index=False)\n",
    "print(subNumber)"
   ]
  },
  {
   "cell_type": "code",
   "execution_count": 133,
   "metadata": {},
   "outputs": [
    {
     "data": {
      "text/plain": [
       "1    1022\n",
       "Name: ratingCategory, dtype: int64"
      ]
     },
     "execution_count": 133,
     "metadata": {},
     "output_type": "execute_result"
    }
   ],
   "source": [
    "# Test Prediction Sequence 3/4\n",
    "submission['ratingCategory'].value_counts()"
   ]
  },
  {
   "cell_type": "code",
   "execution_count": 134,
   "metadata": {},
   "outputs": [
    {
     "data": {
      "image/png": "[encoded data removed]",
      "text/plain": [
       "<Figure size 432x288 with 1 Axes>"
      ]
     },
     "metadata": {
      "needs_background": "light"
     },
     "output_type": "display_data"
    }
   ],
   "source": [
    "# Test Prediction Sequence 4/4\n",
    "sns.countplot(x='ratingCategory', data=submission);"
   ]
  },
  {
   "cell_type": "code",
   "execution_count": null,
   "metadata": {},
   "outputs": [],
   "source": []
  },
  {
   "cell_type": "markdown",
   "metadata": {},
   "source": [
    "# Ensembler "
   ]
  },
  {
   "cell_type": "code",
   "execution_count": 135,
   "metadata": {},
   "outputs": [],
   "source": [
    "# this is the main ensembling class. how to use it is in the next cell!\n",
    "import numpy as np\n",
    "from sklearn.metrics import roc_auc_score\n",
    "from sklearn.preprocessing import LabelEncoder\n",
    "from sklearn.model_selection import StratifiedKFold, KFold\n",
    "import pandas as pd\n",
    "import os\n",
    "import sys\n",
    "import logging\n",
    "\n",
    "logging.basicConfig(\n",
    "    level=logging.DEBUG,\n",
    "    format=\"[%(asctime)s] %(levelname)s %(message)s\",\n",
    "    datefmt=\"%H:%M:%S\", stream=sys.stdout)\n",
    "logger = logging.getLogger(__name__)\n",
    "\n",
    "\n",
    "class Ensembler(object):\n",
    "    def __init__(self, model_dict, num_folds=3, task_type='classification', optimize=roc_auc_score,\n",
    "                 lower_is_better=False, save_path=None):\n",
    "        \"\"\"\n",
    "        Ensembler init function\n",
    "        :param model_dict: model dictionary, see README for its format\n",
    "        :param num_folds: the number of folds for ensembling\n",
    "        :param task_type: classification or regression\n",
    "        :param optimize: the function to optimize for, e.g. AUC, logloss, etc. Must have two arguments y_test and y_pred\n",
    "        :param lower_is_better: is lower value of optimization function better or higher\n",
    "        :param save_path: path to which model pickles will be dumped to along with generated predictions, or None\n",
    "        \"\"\"\n",
    "\n",
    "        self.model_dict = model_dict\n",
    "        self.levels = len(self.model_dict)\n",
    "        self.num_folds = num_folds\n",
    "        self.task_type = task_type\n",
    "        self.optimize = optimize\n",
    "        self.lower_is_better = lower_is_better\n",
    "        self.save_path = save_path\n",
    "\n",
    "        self.training_data = None\n",
    "        self.test_data = None\n",
    "        self.y = None\n",
    "        self.lbl_enc = None\n",
    "        self.y_enc = None\n",
    "        self.train_prediction_dict = None\n",
    "        self.test_prediction_dict = None\n",
    "        self.num_classes = None\n",
    "\n",
    "    def fit(self, training_data, y, lentrain):\n",
    "        \"\"\"\n",
    "        :param training_data: training data in tabular format\n",
    "        :param y: binary, multi-class or regression\n",
    "        :return: chain of models to be used in prediction\n",
    "        \"\"\"\n",
    "\n",
    "        self.training_data = training_data\n",
    "        self.y = y\n",
    "\n",
    "        if self.task_type == 'classification':\n",
    "            self.num_classes = len(np.unique(self.y))\n",
    "            logger.info(\"Found %d classes\", self.num_classes)\n",
    "            self.lbl_enc = LabelEncoder()\n",
    "            self.y_enc = self.lbl_enc.fit_transform(self.y)\n",
    "            kf = StratifiedKFold(n_splits=self.num_folds)\n",
    "            train_prediction_shape = (lentrain, self.num_classes)\n",
    "        else:\n",
    "            self.num_classes = -1\n",
    "            self.y_enc = self.y\n",
    "            kf = KFold(n_splits=self.num_folds)\n",
    "            train_prediction_shape = (lentrain, 1)\n",
    "\n",
    "        self.train_prediction_dict = {}\n",
    "        for level in range(self.levels):\n",
    "            self.train_prediction_dict[level] = np.zeros((train_prediction_shape[0],\n",
    "                                                          train_prediction_shape[1] * len(self.model_dict[level])))\n",
    "\n",
    "        for level in range(self.levels):\n",
    "\n",
    "            if level == 0:\n",
    "                temp_train = self.training_data\n",
    "            else:\n",
    "                temp_train = self.train_prediction_dict[level - 1]\n",
    "\n",
    "            for model_num, model in enumerate(self.model_dict[level]):\n",
    "                validation_scores = []\n",
    "                foldnum = 1\n",
    "                for train_index, valid_index in kf.split(self.train_prediction_dict[0], self.y_enc):\n",
    "                    logger.info(\"Training Level %d Fold # %d. Model # %d\", level, foldnum, model_num)\n",
    "\n",
    "                    if level != 0:\n",
    "                        l_training_data = temp_train[train_index]\n",
    "                        l_validation_data = temp_train[valid_index]\n",
    "                        model.fit(l_training_data, self.y_enc[train_index])\n",
    "                    else:\n",
    "                        l0_training_data = temp_train[0][model_num]\n",
    "                        if type(l0_training_data) == list:\n",
    "                            l_training_data = [x[train_index] for x in l0_training_data]\n",
    "                            l_validation_data = [x[valid_index] for x in l0_training_data]\n",
    "                        else:\n",
    "                            l_training_data = l0_training_data[train_index]\n",
    "                            l_validation_data = l0_training_data[valid_index]\n",
    "                        model.fit(l_training_data, self.y_enc[train_index])\n",
    "\n",
    "                    logger.info(\"Predicting Level %d. Fold # %d. Model # %d\", level, foldnum, model_num)\n",
    "\n",
    "                    if self.task_type == 'classification':\n",
    "                        temp_train_predictions = model.predict_proba(l_validation_data)\n",
    "                        self.train_prediction_dict[level][valid_index,\n",
    "                        (model_num * self.num_classes):(model_num * self.num_classes) +\n",
    "                                                       self.num_classes] = temp_train_predictions\n",
    "\n",
    "                    else:\n",
    "                        temp_train_predictions = model.predict(l_validation_data)\n",
    "                        self.train_prediction_dict[level][valid_index, model_num] = temp_train_predictions\n",
    "                    validation_score = self.optimize(self.y_enc[valid_index], temp_train_predictions)\n",
    "                    validation_scores.append(validation_score)\n",
    "                    logger.info(\"Level %d. Fold # %d. Model # %d. Validation Score = %f\", level, foldnum, model_num,\n",
    "                                validation_score)\n",
    "                    foldnum += 1\n",
    "                avg_score = np.mean(validation_scores)\n",
    "                std_score = np.std(validation_scores)\n",
    "                logger.info(\"Level %d. Model # %d. Mean Score = %f. Std Dev = %f\", level, model_num,\n",
    "                            avg_score, std_score)\n",
    "\n",
    "            logger.info(\"Saving predictions for level # %d\", level)\n",
    "            train_predictions_df = pd.DataFrame(self.train_prediction_dict[level])\n",
    "            train_predictions_df.to_csv(os.path.join(self.save_path, \"train_predictions_level_\" + str(level) + \".csv\"),\n",
    "                                        index=False, header=None)\n",
    "\n",
    "        return self.train_prediction_dict\n",
    "\n",
    "    def predict(self, test_data, lentest):\n",
    "        self.test_data = test_data\n",
    "        if self.task_type == 'classification':\n",
    "            test_prediction_shape = (lentest, self.num_classes)\n",
    "        else:\n",
    "            test_prediction_shape = (lentest, 1)\n",
    "\n",
    "        self.test_prediction_dict = {}\n",
    "        for level in range(self.levels):\n",
    "            self.test_prediction_dict[level] = np.zeros((test_prediction_shape[0],\n",
    "                                                         test_prediction_shape[1] * len(self.model_dict[level])))\n",
    "        self.test_data = test_data\n",
    "        for level in range(self.levels):\n",
    "            if level == 0:\n",
    "                temp_train = self.training_data\n",
    "                temp_test = self.test_data\n",
    "            else:\n",
    "                temp_train = self.train_prediction_dict[level - 1]\n",
    "                temp_test = self.test_prediction_dict[level - 1]\n",
    "\n",
    "            for model_num, model in enumerate(self.model_dict[level]):\n",
    "\n",
    "                logger.info(\"Training Fulldata Level %d. Model # %d\", level, model_num)\n",
    "                if level == 0:\n",
    "                    model.fit(temp_train[0][model_num], self.y_enc)\n",
    "                else:\n",
    "                    model.fit(temp_train, self.y_enc)\n",
    "\n",
    "                logger.info(\"Predicting Test Level %d. Model # %d\", level, model_num)\n",
    "\n",
    "                if self.task_type == 'classification':\n",
    "                    if level == 0:\n",
    "                        temp_test_predictions = model.predict_proba(temp_test[0][model_num])\n",
    "                    else:\n",
    "                        temp_test_predictions = model.predict_proba(temp_test)\n",
    "                    self.test_prediction_dict[level][:, (model_num * self.num_classes): (model_num * self.num_classes) +\n",
    "                                                                                        self.num_classes] = temp_test_predictions\n",
    "\n",
    "                else:\n",
    "                    if level == 0:\n",
    "                        temp_test_predictions = model.predict(temp_test[0][model_num])\n",
    "                    else:\n",
    "                        temp_test_predictions = model.predict(temp_test)\n",
    "                    self.test_prediction_dict[level][:, model_num] = temp_test_predictions\n",
    "\n",
    "            test_predictions_df = pd.DataFrame(self.test_prediction_dict[level])\n",
    "            test_predictions_df.to_csv(os.path.join(self.save_path, \"test_predictions_level_\" + str(level) + \".csv\"),\n",
    "                                       index=False, header=None)\n",
    "\n",
    "        return self.test_prediction_dict"
   ]
  },
  {
   "cell_type": "code",
   "execution_count": 136,
   "metadata": {},
   "outputs": [
    {
     "name": "stdout",
     "output_type": "stream",
     "text": [
      "[12:40:21] INFO Found 3 classes\n",
      "[12:40:21] INFO Training Level 0 Fold # 1. Model # 0\n",
      "[12:40:21] INFO Predicting Level 0. Fold # 1. Model # 0\n",
      "[12:40:21] INFO Level 0. Fold # 1. Model # 0. Validation Score = 0.582691\n",
      "[12:40:21] INFO Training Level 0 Fold # 2. Model # 0\n",
      "[12:40:22] INFO Predicting Level 0. Fold # 2. Model # 0\n",
      "[12:40:22] INFO Level 0. Fold # 2. Model # 0. Validation Score = 0.579270\n",
      "[12:40:22] INFO Training Level 0 Fold # 3. Model # 0\n",
      "[12:40:22] INFO Predicting Level 0. Fold # 3. Model # 0\n",
      "[12:40:22] INFO Level 0. Fold # 3. Model # 0. Validation Score = 0.580537\n",
      "[12:40:22] INFO Level 0. Model # 0. Mean Score = 0.580833. Std Dev = 0.001412\n",
      "[12:40:22] INFO Training Level 0 Fold # 1. Model # 1\n",
      "[12:40:30] INFO Predicting Level 0. Fold # 1. Model # 1\n",
      "[12:40:30] INFO Level 0. Fold # 1. Model # 1. Validation Score = 0.693722\n",
      "[12:40:30] INFO Training Level 0 Fold # 2. Model # 1\n",
      "[12:40:38] INFO Predicting Level 0. Fold # 2. Model # 1\n",
      "[12:40:38] INFO Level 0. Fold # 2. Model # 1. Validation Score = 0.688885\n",
      "[12:40:38] INFO Training Level 0 Fold # 3. Model # 1\n",
      "[12:40:46] INFO Predicting Level 0. Fold # 3. Model # 1\n",
      "[12:40:46] INFO Level 0. Fold # 3. Model # 1. Validation Score = 0.698811\n",
      "[12:40:46] INFO Level 0. Model # 1. Mean Score = 0.693806. Std Dev = 0.004053\n",
      "[12:40:46] INFO Training Level 0 Fold # 1. Model # 2\n",
      "[12:40:46] INFO Predicting Level 0. Fold # 1. Model # 2\n",
      "[12:40:46] INFO Level 0. Fold # 1. Model # 2. Validation Score = 0.640646\n",
      "[12:40:46] INFO Training Level 0 Fold # 2. Model # 2\n",
      "[12:40:46] INFO Predicting Level 0. Fold # 2. Model # 2\n",
      "[12:40:46] INFO Level 0. Fold # 2. Model # 2. Validation Score = 0.625461\n",
      "[12:40:46] INFO Training Level 0 Fold # 3. Model # 2\n",
      "[12:40:46] INFO Predicting Level 0. Fold # 3. Model # 2\n",
      "[12:40:46] INFO Level 0. Fold # 3. Model # 2. Validation Score = 0.644635\n",
      "[12:40:46] INFO Level 0. Model # 2. Mean Score = 0.636914. Std Dev = 0.008261\n",
      "[12:40:46] INFO Training Level 0 Fold # 1. Model # 3\n",
      "[12:40:47] INFO Predicting Level 0. Fold # 1. Model # 3\n",
      "[12:40:47] INFO Level 0. Fold # 1. Model # 3. Validation Score = 3.319563\n",
      "[12:40:47] INFO Training Level 0 Fold # 2. Model # 3\n",
      "[12:40:47] INFO Predicting Level 0. Fold # 2. Model # 3\n",
      "[12:40:47] INFO Level 0. Fold # 2. Model # 3. Validation Score = 3.327412\n",
      "[12:40:47] INFO Training Level 0 Fold # 3. Model # 3\n",
      "[12:40:47] INFO Predicting Level 0. Fold # 3. Model # 3\n",
      "[12:40:47] INFO Level 0. Fold # 3. Model # 3. Validation Score = 3.347928\n",
      "[12:40:47] INFO Level 0. Model # 3. Mean Score = 3.331634. Std Dev = 0.011958\n",
      "[12:40:47] INFO Saving predictions for level # 0\n",
      "[12:40:47] INFO Training Level 1 Fold # 1. Model # 0\n",
      "[12:40:48] INFO Predicting Level 1. Fold # 1. Model # 0\n",
      "[12:40:48] INFO Level 1. Fold # 1. Model # 0. Validation Score = 0.796838\n",
      "[12:40:48] INFO Training Level 1 Fold # 2. Model # 0\n",
      "[12:40:48] INFO Predicting Level 1. Fold # 2. Model # 0\n",
      "[12:40:48] INFO Level 1. Fold # 2. Model # 0. Validation Score = 0.765252\n",
      "[12:40:48] INFO Training Level 1 Fold # 3. Model # 0\n",
      "[12:40:49] INFO Predicting Level 1. Fold # 3. Model # 0\n",
      "[12:40:49] INFO Level 1. Fold # 3. Model # 0. Validation Score = 0.781462\n",
      "[12:40:49] INFO Level 1. Model # 0. Mean Score = 0.781184. Std Dev = 0.012897\n",
      "[12:40:49] INFO Saving predictions for level # 1\n",
      "[12:40:49] INFO Training Fulldata Level 0. Model # 0\n",
      "[12:40:50] INFO Predicting Test Level 0. Model # 0\n",
      "[12:40:50] INFO Training Fulldata Level 0. Model # 1\n",
      "[12:40:59] INFO Predicting Test Level 0. Model # 1\n",
      "[12:40:59] INFO Training Fulldata Level 0. Model # 2\n",
      "[12:40:59] INFO Predicting Test Level 0. Model # 2\n",
      "[12:40:59] INFO Training Fulldata Level 0. Model # 3\n",
      "[12:40:59] INFO Predicting Test Level 0. Model # 3\n",
      "[12:40:59] INFO Training Fulldata Level 1. Model # 0\n",
      "[12:41:00] INFO Predicting Test Level 1. Model # 0\n"
     ]
    }
   ],
   "source": [
    "# specify the data to be used for every level of ensembling:\n",
    "train_data_dict = {0: [xtrain_tfv, xtrain_ctv, xtrain_tfv, xtrain_ctv], 1: [xtrain_glove]}\n",
    "test_data_dict = {0: [xvalid_tfv, xvalid_ctv, xvalid_tfv, xvalid_ctv], 1: [xvalid_glove]}\n",
    "\n",
    "model_dict = {0: [LogisticRegression(), LogisticRegression(), MultinomialNB(alpha=0.1), MultinomialNB()],\n",
    "\n",
    "              1: [xgb.XGBClassifier(silent=True, n_estimators=120, max_depth=7)]}\n",
    "\n",
    "ens = Ensembler(model_dict=model_dict, num_folds=3, task_type='classification',\n",
    "                optimize=multiclass_logloss, lower_is_better=True, save_path='./')\n",
    "\n",
    "ens.fit(train_data_dict, ytrain, lentrain=xtrain_glove.shape[0])\n",
    "preds = ens.predict(test_data_dict, lentest=xvalid_glove.shape[0])"
   ]
  },
  {
   "cell_type": "code",
   "execution_count": 137,
   "metadata": {},
   "outputs": [
    {
     "data": {
      "text/plain": [
       "{0: array([[1.19115934e-01, 8.71690937e-01, 9.19312909e-03, ...,\n",
       "         9.87111768e-04, 9.99012888e-01, 3.70368977e-37],\n",
       "        [3.20562409e-01, 6.62145289e-01, 1.72923027e-02, ...,\n",
       "         2.41173872e-02, 9.75882613e-01, 2.93887953e-37],\n",
       "        [1.12004538e-01, 8.80483236e-01, 7.51222584e-03, ...,\n",
       "         6.38505690e-20, 1.00000000e+00, 7.11279159e-77],\n",
       "        ...,\n",
       "        [1.29229780e-01, 8.58090698e-01, 1.26795216e-02, ...,\n",
       "         1.62375245e-06, 9.99998376e-01, 1.91422431e-40],\n",
       "        [4.42480122e-01, 5.36613025e-01, 2.09068523e-02, ...,\n",
       "         9.99817547e-01, 1.82452803e-04, 4.07985734e-27],\n",
       "        [1.88004296e-01, 8.03313417e-01, 8.68228698e-03, ...,\n",
       "         1.75907028e-12, 1.00000000e+00, 1.55564351e-71]]),\n",
       " 1: array([[7.88316038e-03, 9.92106080e-01, 1.07203859e-05],\n",
       "        [1.96564108e-01, 8.02066684e-01, 1.36921543e-03],\n",
       "        [1.40753854e-02, 9.85908449e-01, 1.61019580e-05],\n",
       "        ...,\n",
       "        [5.81979239e-03, 9.94171321e-01, 8.87629358e-06],\n",
       "        [2.02699900e-01, 7.97143936e-01, 1.56170267e-04],\n",
       "        [1.48066469e-02, 9.85181868e-01, 1.14980830e-05]])}"
      ]
     },
     "execution_count": 137,
     "metadata": {},
     "output_type": "execute_result"
    }
   ],
   "source": [
    "preds"
   ]
  },
  {
   "cell_type": "code",
   "execution_count": null,
   "metadata": {},
   "outputs": [],
   "source": []
  },
  {
   "cell_type": "code",
   "execution_count": 138,
   "metadata": {},
   "outputs": [],
   "source": [
    "# Test Prediction Sequence 1/4\n",
    "# test_predictions = model.predict_proba(xtest_pad)\n",
    "labels = np.argmax(preds, axis=-1)"
   ]
  },
  {
   "cell_type": "code",
   "execution_count": 139,
   "metadata": {},
   "outputs": [
    {
     "name": "stdout",
     "output_type": "stream",
     "text": [
      "1011\n"
     ]
    }
   ],
   "source": [
    "# Test Prediction Sequence 2/4\n",
    "subNumber += 1\n",
    "submission = pd.DataFrame({'id': sample['id'], 'ratingCategory':labels})\n",
    "# submission['ratingCategory'] = submission['ratingCategory'].astype('int64')\n",
    "submission.to_csv(f'../data/deepsub{subNumber}.csv', index=False)\n",
    "print(subNumber)"
   ]
  },
  {
   "cell_type": "code",
   "execution_count": 140,
   "metadata": {},
   "outputs": [
    {
     "data": {
      "text/plain": [
       "0    1022\n",
       "Name: ratingCategory, dtype: int64"
      ]
     },
     "execution_count": 140,
     "metadata": {},
     "output_type": "execute_result"
    }
   ],
   "source": [
    "# Test Prediction Sequence 3/4\n",
    "submission['ratingCategory'].value_counts()"
   ]
  },
  {
   "cell_type": "code",
   "execution_count": 141,
   "metadata": {},
   "outputs": [
    {
     "data": {
      "image/png": "[encoded data removed]",
      "text/plain": [
       "<Figure size 432x288 with 1 Axes>"
      ]
     },
     "metadata": {
      "needs_background": "light"
     },
     "output_type": "display_data"
    }
   ],
   "source": [
    "# Test Prediction Sequence 4/4\n",
    "sns.countplot(x='ratingCategory', data=submission);"
   ]
  },
  {
   "cell_type": "code",
   "execution_count": null,
   "metadata": {},
   "outputs": [],
   "source": []
  }
 ],
 "metadata": {
  "kernelspec": {
   "display_name": "any-nlp",
   "language": "python",
   "name": "any-nlp"
  },
  "language_info": {
   "codemirror_mode": {
    "name": "ipython",
    "version": 3
   },
   "file_extension": ".py",
   "mimetype": "text/x-python",
   "name": "python",
   "nbconvert_exporter": "python",
   "pygments_lexer": "ipython3",
   "version": "3.7.0"
  }
 },
 "nbformat": 4,
 "nbformat_minor": 4
}
